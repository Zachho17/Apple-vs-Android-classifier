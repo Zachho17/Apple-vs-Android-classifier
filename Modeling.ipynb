{
 "cells": [
  {
   "cell_type": "code",
   "execution_count": 1,
   "id": "24817a71-96f7-424f-b79b-10975edc3cb3",
   "metadata": {},
   "outputs": [
    {
     "data": {
      "text/html": [
       "<div>\n",
       "<style scoped>\n",
       "    .dataframe tbody tr th:only-of-type {\n",
       "        vertical-align: middle;\n",
       "    }\n",
       "\n",
       "    .dataframe tbody tr th {\n",
       "        vertical-align: top;\n",
       "    }\n",
       "\n",
       "    .dataframe thead th {\n",
       "        text-align: right;\n",
       "    }\n",
       "</style>\n",
       "<table border=\"1\" class=\"dataframe\">\n",
       "  <thead>\n",
       "    <tr style=\"text-align: right;\">\n",
       "      <th></th>\n",
       "      <th>title</th>\n",
       "      <th>label</th>\n",
       "    </tr>\n",
       "  </thead>\n",
       "  <tbody>\n",
       "    <tr>\n",
       "      <th>0</th>\n",
       "      <td>Epic Games takes on Apple and Google in Austra...</td>\n",
       "      <td>1</td>\n",
       "    </tr>\n",
       "    <tr>\n",
       "      <th>1</th>\n",
       "      <td>Java users on macOS 14 running on Apple silico...</td>\n",
       "      <td>1</td>\n",
       "    </tr>\n",
       "    <tr>\n",
       "      <th>2</th>\n",
       "      <td>Apple With No AI Looks More Like Coca-Cola Tha...</td>\n",
       "      <td>1</td>\n",
       "    </tr>\n",
       "    <tr>\n",
       "      <th>3</th>\n",
       "      <td>Daily Advice Thread - March 16, 2024</td>\n",
       "      <td>1</td>\n",
       "    </tr>\n",
       "    <tr>\n",
       "      <th>4</th>\n",
       "      <td>Apple opposes ex-ante regulations, similar to ...</td>\n",
       "      <td>1</td>\n",
       "    </tr>\n",
       "  </tbody>\n",
       "</table>\n",
       "</div>"
      ],
      "text/plain": [
       "                                               title  label\n",
       "0  Epic Games takes on Apple and Google in Austra...      1\n",
       "1  Java users on macOS 14 running on Apple silico...      1\n",
       "2  Apple With No AI Looks More Like Coca-Cola Tha...      1\n",
       "3               Daily Advice Thread - March 16, 2024      1\n",
       "4  Apple opposes ex-ante regulations, similar to ...      1"
      ]
     },
     "execution_count": 1,
     "metadata": {},
     "output_type": "execute_result"
    }
   ],
   "source": [
    "# import libraries\n",
    "import pandas as pd\n",
    "import numpy as np\n",
    "import matplotlib.pyplot as plt\n",
    "import seaborn as sns\n",
    "from sklearn.model_selection import train_test_split, GridSearchCV\n",
    "from sklearn.feature_extraction.text import CountVectorizer\n",
    "from sklearn.pipeline import Pipeline\n",
    "from sklearn.naive_bayes import MultinomialNB\n",
    "from sklearn.linear_model import LogisticRegression\n",
    "from sklearn.metrics import confusion_matrix, plot_confusion_matrix, f1_score\n",
    "\n",
    "# read data\n",
    "data = pd.read_csv('./data/Alltitles_labeled.csv')\n",
    "data.head()"
   ]
  },
  {
   "cell_type": "code",
   "execution_count": 2,
   "id": "f5711cd0-6da5-4ab4-927f-95c0fbb24948",
   "metadata": {},
   "outputs": [
    {
     "data": {
      "text/plain": [
       "1    0.60665\n",
       "0    0.39335\n",
       "Name: label, dtype: float64"
      ]
     },
     "execution_count": 2,
     "metadata": {},
     "output_type": "execute_result"
    }
   ],
   "source": [
    "X = data['title']\n",
    "y = data['label']\n",
    "y.value_counts(normalize = True) # check that the distribution of the label"
   ]
  },
  {
   "cell_type": "code",
   "execution_count": 3,
   "id": "5d4d9c91-c6ef-4e89-9e79-f34a992689d1",
   "metadata": {},
   "outputs": [],
   "source": [
    "# split the data into training and testing set\n",
    "X_train, X_test, y_train, y_test = train_test_split(X,\n",
    "                                                    y,\n",
    "                                                    test_size=0.20,\n",
    "                                                    stratify=y,\n",
    "                                                    random_state=22)"
   ]
  },
  {
   "cell_type": "markdown",
   "id": "7da06209-b58f-4390-b4b6-0fc80c7e50cc",
   "metadata": {},
   "source": [
    "### Naive Bayes Model"
   ]
  },
  {
   "cell_type": "code",
   "execution_count": 4,
   "id": "77f1f8bd-1aa7-4677-92ba-df356b22d20e",
   "metadata": {},
   "outputs": [],
   "source": [
    "# Establish a pipeline that focuses on Naive Bayes model:\n",
    "\n",
    "NBpipe = Pipeline([\n",
    "    ('cvec', CountVectorizer()),\n",
    "    ('nb', MultinomialNB())\n",
    "])\n",
    "\n",
    "# Search over the following values of hyperparameters:\n",
    "# Maximum number of features fit: 2000, 3000, 4000, 5000\n",
    "# Minimum number of documents needed to include token: 2, 3\n",
    "# Maximum number of documents needed to include token: 90%, 95%\n",
    "# Check (individual tokens) and also check (individual tokens and 2-grams).\n",
    "\n",
    "NBpipe_params = {\n",
    "    'cvec__max_features': [2_000, 3_000, 4_000, 5_000],\n",
    "    'cvec__min_df': [2, 3],\n",
    "    'cvec__max_df': [.9, .95],\n",
    "    'cvec__ngram_range': [(1,1), (1,2)],\n",
    "    'cvec__stop_words': ['english']\n",
    "}"
   ]
  },
  {
   "cell_type": "code",
   "execution_count": 5,
   "id": "4dbecc77-6026-4f5e-9ed5-317599eddf9c",
   "metadata": {},
   "outputs": [],
   "source": [
    "# Initiatialise GridSearch across different hyperparameters with a 5 fold cross validation\n",
    "NBgs = GridSearchCV(NBpipe, \n",
    "                    param_grid=NBpipe_params, \n",
    "                    cv=5,\n",
    "                    scoring='f1') "
   ]
  },
  {
   "cell_type": "code",
   "execution_count": 6,
   "id": "a17d3ceb-c545-402b-ae84-9dfbe4a6b053",
   "metadata": {},
   "outputs": [
    {
     "data": {
      "text/html": [
       "<style>#sk-container-id-1 {color: black;background-color: white;}#sk-container-id-1 pre{padding: 0;}#sk-container-id-1 div.sk-toggleable {background-color: white;}#sk-container-id-1 label.sk-toggleable__label {cursor: pointer;display: block;width: 100%;margin-bottom: 0;padding: 0.3em;box-sizing: border-box;text-align: center;}#sk-container-id-1 label.sk-toggleable__label-arrow:before {content: \"▸\";float: left;margin-right: 0.25em;color: #696969;}#sk-container-id-1 label.sk-toggleable__label-arrow:hover:before {color: black;}#sk-container-id-1 div.sk-estimator:hover label.sk-toggleable__label-arrow:before {color: black;}#sk-container-id-1 div.sk-toggleable__content {max-height: 0;max-width: 0;overflow: hidden;text-align: left;background-color: #f0f8ff;}#sk-container-id-1 div.sk-toggleable__content pre {margin: 0.2em;color: black;border-radius: 0.25em;background-color: #f0f8ff;}#sk-container-id-1 input.sk-toggleable__control:checked~div.sk-toggleable__content {max-height: 200px;max-width: 100%;overflow: auto;}#sk-container-id-1 input.sk-toggleable__control:checked~label.sk-toggleable__label-arrow:before {content: \"▾\";}#sk-container-id-1 div.sk-estimator input.sk-toggleable__control:checked~label.sk-toggleable__label {background-color: #d4ebff;}#sk-container-id-1 div.sk-label input.sk-toggleable__control:checked~label.sk-toggleable__label {background-color: #d4ebff;}#sk-container-id-1 input.sk-hidden--visually {border: 0;clip: rect(1px 1px 1px 1px);clip: rect(1px, 1px, 1px, 1px);height: 1px;margin: -1px;overflow: hidden;padding: 0;position: absolute;width: 1px;}#sk-container-id-1 div.sk-estimator {font-family: monospace;background-color: #f0f8ff;border: 1px dotted black;border-radius: 0.25em;box-sizing: border-box;margin-bottom: 0.5em;}#sk-container-id-1 div.sk-estimator:hover {background-color: #d4ebff;}#sk-container-id-1 div.sk-parallel-item::after {content: \"\";width: 100%;border-bottom: 1px solid gray;flex-grow: 1;}#sk-container-id-1 div.sk-label:hover label.sk-toggleable__label {background-color: #d4ebff;}#sk-container-id-1 div.sk-serial::before {content: \"\";position: absolute;border-left: 1px solid gray;box-sizing: border-box;top: 0;bottom: 0;left: 50%;z-index: 0;}#sk-container-id-1 div.sk-serial {display: flex;flex-direction: column;align-items: center;background-color: white;padding-right: 0.2em;padding-left: 0.2em;position: relative;}#sk-container-id-1 div.sk-item {position: relative;z-index: 1;}#sk-container-id-1 div.sk-parallel {display: flex;align-items: stretch;justify-content: center;background-color: white;position: relative;}#sk-container-id-1 div.sk-item::before, #sk-container-id-1 div.sk-parallel-item::before {content: \"\";position: absolute;border-left: 1px solid gray;box-sizing: border-box;top: 0;bottom: 0;left: 50%;z-index: -1;}#sk-container-id-1 div.sk-parallel-item {display: flex;flex-direction: column;z-index: 1;position: relative;background-color: white;}#sk-container-id-1 div.sk-parallel-item:first-child::after {align-self: flex-end;width: 50%;}#sk-container-id-1 div.sk-parallel-item:last-child::after {align-self: flex-start;width: 50%;}#sk-container-id-1 div.sk-parallel-item:only-child::after {width: 0;}#sk-container-id-1 div.sk-dashed-wrapped {border: 1px dashed gray;margin: 0 0.4em 0.5em 0.4em;box-sizing: border-box;padding-bottom: 0.4em;background-color: white;}#sk-container-id-1 div.sk-label label {font-family: monospace;font-weight: bold;display: inline-block;line-height: 1.2em;}#sk-container-id-1 div.sk-label-container {text-align: center;}#sk-container-id-1 div.sk-container {/* jupyter's `normalize.less` sets `[hidden] { display: none; }` but bootstrap.min.css set `[hidden] { display: none !important; }` so we also need the `!important` here to be able to override the default hidden behavior on the sphinx rendered scikit-learn.org. See: https://github.com/scikit-learn/scikit-learn/issues/21755 */display: inline-block !important;position: relative;}#sk-container-id-1 div.sk-text-repr-fallback {display: none;}</style><div id=\"sk-container-id-1\" class=\"sk-top-container\"><div class=\"sk-text-repr-fallback\"><pre>GridSearchCV(cv=5,\n",
       "             estimator=Pipeline(steps=[(&#x27;cvec&#x27;, CountVectorizer()),\n",
       "                                       (&#x27;nb&#x27;, MultinomialNB())]),\n",
       "             param_grid={&#x27;cvec__max_df&#x27;: [0.9, 0.95],\n",
       "                         &#x27;cvec__max_features&#x27;: [2000, 3000, 4000, 5000],\n",
       "                         &#x27;cvec__min_df&#x27;: [2, 3],\n",
       "                         &#x27;cvec__ngram_range&#x27;: [(1, 1), (1, 2)],\n",
       "                         &#x27;cvec__stop_words&#x27;: [&#x27;english&#x27;]},\n",
       "             scoring=&#x27;f1&#x27;)</pre><b>In a Jupyter environment, please rerun this cell to show the HTML representation or trust the notebook. <br />On GitHub, the HTML representation is unable to render, please try loading this page with nbviewer.org.</b></div><div class=\"sk-container\" hidden><div class=\"sk-item sk-dashed-wrapped\"><div class=\"sk-label-container\"><div class=\"sk-label sk-toggleable\"><input class=\"sk-toggleable__control sk-hidden--visually\" id=\"sk-estimator-id-1\" type=\"checkbox\" ><label for=\"sk-estimator-id-1\" class=\"sk-toggleable__label sk-toggleable__label-arrow\">GridSearchCV</label><div class=\"sk-toggleable__content\"><pre>GridSearchCV(cv=5,\n",
       "             estimator=Pipeline(steps=[(&#x27;cvec&#x27;, CountVectorizer()),\n",
       "                                       (&#x27;nb&#x27;, MultinomialNB())]),\n",
       "             param_grid={&#x27;cvec__max_df&#x27;: [0.9, 0.95],\n",
       "                         &#x27;cvec__max_features&#x27;: [2000, 3000, 4000, 5000],\n",
       "                         &#x27;cvec__min_df&#x27;: [2, 3],\n",
       "                         &#x27;cvec__ngram_range&#x27;: [(1, 1), (1, 2)],\n",
       "                         &#x27;cvec__stop_words&#x27;: [&#x27;english&#x27;]},\n",
       "             scoring=&#x27;f1&#x27;)</pre></div></div></div><div class=\"sk-parallel\"><div class=\"sk-parallel-item\"><div class=\"sk-item\"><div class=\"sk-label-container\"><div class=\"sk-label sk-toggleable\"><input class=\"sk-toggleable__control sk-hidden--visually\" id=\"sk-estimator-id-2\" type=\"checkbox\" ><label for=\"sk-estimator-id-2\" class=\"sk-toggleable__label sk-toggleable__label-arrow\">estimator: Pipeline</label><div class=\"sk-toggleable__content\"><pre>Pipeline(steps=[(&#x27;cvec&#x27;, CountVectorizer()), (&#x27;nb&#x27;, MultinomialNB())])</pre></div></div></div><div class=\"sk-serial\"><div class=\"sk-item\"><div class=\"sk-serial\"><div class=\"sk-item\"><div class=\"sk-estimator sk-toggleable\"><input class=\"sk-toggleable__control sk-hidden--visually\" id=\"sk-estimator-id-3\" type=\"checkbox\" ><label for=\"sk-estimator-id-3\" class=\"sk-toggleable__label sk-toggleable__label-arrow\">CountVectorizer</label><div class=\"sk-toggleable__content\"><pre>CountVectorizer()</pre></div></div></div><div class=\"sk-item\"><div class=\"sk-estimator sk-toggleable\"><input class=\"sk-toggleable__control sk-hidden--visually\" id=\"sk-estimator-id-4\" type=\"checkbox\" ><label for=\"sk-estimator-id-4\" class=\"sk-toggleable__label sk-toggleable__label-arrow\">MultinomialNB</label><div class=\"sk-toggleable__content\"><pre>MultinomialNB()</pre></div></div></div></div></div></div></div></div></div></div></div></div>"
      ],
      "text/plain": [
       "GridSearchCV(cv=5,\n",
       "             estimator=Pipeline(steps=[('cvec', CountVectorizer()),\n",
       "                                       ('nb', MultinomialNB())]),\n",
       "             param_grid={'cvec__max_df': [0.9, 0.95],\n",
       "                         'cvec__max_features': [2000, 3000, 4000, 5000],\n",
       "                         'cvec__min_df': [2, 3],\n",
       "                         'cvec__ngram_range': [(1, 1), (1, 2)],\n",
       "                         'cvec__stop_words': ['english']},\n",
       "             scoring='f1')"
      ]
     },
     "execution_count": 6,
     "metadata": {},
     "output_type": "execute_result"
    }
   ],
   "source": [
    "NBgs.fit(X_train, y_train)"
   ]
  },
  {
   "cell_type": "code",
   "execution_count": 7,
   "id": "f574e4a1-db34-48d4-a1c4-6cb0ab9a2edd",
   "metadata": {},
   "outputs": [
    {
     "data": {
      "text/plain": [
       "{'cvec__max_df': 0.9,\n",
       " 'cvec__max_features': 2000,\n",
       " 'cvec__min_df': 3,\n",
       " 'cvec__ngram_range': (1, 2),\n",
       " 'cvec__stop_words': 'english'}"
      ]
     },
     "execution_count": 7,
     "metadata": {},
     "output_type": "execute_result"
    }
   ],
   "source": [
    "NBgs.best_params_  # identify the best parameters for the countvectorizer in the Naive Bayes model"
   ]
  },
  {
   "cell_type": "code",
   "execution_count": 8,
   "id": "2ee899fc-b38f-4b62-a30d-6f1822c3b830",
   "metadata": {},
   "outputs": [
    {
     "data": {
      "text/plain": [
       "0.9683860232945091"
      ]
     },
     "execution_count": 8,
     "metadata": {},
     "output_type": "execute_result"
    }
   ],
   "source": [
    "NBgs.score(X_train, y_train)"
   ]
  },
  {
   "cell_type": "code",
   "execution_count": 9,
   "id": "a0a21a81-2178-4316-8e1d-d134886dde4a",
   "metadata": {},
   "outputs": [
    {
     "data": {
      "text/plain": [
       "0.9498327759197325"
      ]
     },
     "execution_count": 9,
     "metadata": {},
     "output_type": "execute_result"
    }
   ],
   "source": [
    "NBgs.score(X_test, y_test)"
   ]
  },
  {
   "cell_type": "markdown",
   "id": "75d23dc3-4eac-4e23-998c-3a904d41f510",
   "metadata": {},
   "source": [
    "The model does not seem to be overfitted.  \n",
    "A F1 score of 0.95 seems rather decent, let us look at the confusion matrix and other scores"
   ]
  },
  {
   "cell_type": "code",
   "execution_count": 10,
   "id": "33e363ce-d5fc-49d9-a2e4-272f41e54ff5",
   "metadata": {},
   "outputs": [
    {
     "name": "stderr",
     "output_type": "stream",
     "text": [
      "C:\\Users\\heziy\\.conda\\envs\\dsi-sg\\lib\\site-packages\\sklearn\\utils\\deprecation.py:87: FutureWarning: Function plot_confusion_matrix is deprecated; Function `plot_confusion_matrix` is deprecated in 1.0 and will be removed in 1.2. Use one of the class methods: ConfusionMatrixDisplay.from_predictions or ConfusionMatrixDisplay.from_estimator.\n",
      "  warnings.warn(msg, category=FutureWarning)\n"
     ]
    },
    {
     "data": {
      "image/png": "[encoded data removed]",
      "text/plain": [
       "<Figure size 640x480 with 2 Axes>"
      ]
     },
     "metadata": {},
     "output_type": "display_data"
    }
   ],
   "source": [
    "# predict with Naive Bayes Model\n",
    "NB_pred = NBgs.predict(X_test)\n",
    "\n",
    "# Save confusion matrix values\n",
    "NB_tn, NB_fp, NB_fn, NB_tp = confusion_matrix(y_test, NB_pred).ravel()\n",
    "\n",
    "# Plot confusion matrix\n",
    "plot_confusion_matrix(NBgs, X_test, y_test, cmap='Blues', values_format='d');"
   ]
  },
  {
   "cell_type": "markdown",
   "id": "4c16bb3a-5fdf-467e-8caf-52f45c03d781",
   "metadata": {},
   "source": [
    "Naive Bayes model seems to be able to classify the Apple subreddit well. The best F1 score looks to be using count vectorizer with the below parameters:  \n",
    "Maximum features: 2000  \n",
    "Maximum number of token: 90%  \n",
    "Minimum number of token: 2  \n",
    "2-grams\n",
    "Stop words in English"
   ]
  },
  {
   "cell_type": "markdown",
   "id": "7518e31f-4fd8-4be0-886f-3bbead0651a0",
   "metadata": {},
   "source": [
    "### Logistic Regression"
   ]
  },
  {
   "cell_type": "code",
   "execution_count": 11,
   "id": "ecb46955-0614-4db6-9e30-d340138bed80",
   "metadata": {},
   "outputs": [],
   "source": [
    "# Establish a pipeline that focuses on Logistic Regression model:\n",
    "\n",
    "LRpipe = Pipeline([\n",
    "    ('cvec', CountVectorizer()),\n",
    "    ('logreg', LogisticRegression())\n",
    "])\n",
    "\n",
    "# Search over the following values of hyperparameters:\n",
    "# the penalty value: 0.1, 1, 10, 100\n",
    "# the penalty type: l1, l2\n",
    "\n",
    "LRpipe_params = {\n",
    "    'cvec__max_features': [2_000, 3_000, 4_000, 5_000],\n",
    "    'cvec__min_df': [2, 3],\n",
    "    'cvec__max_df': [.9, .95],\n",
    "    'cvec__ngram_range': [(1,1), (1,2)],\n",
    "    'cvec__stop_words': ['english'],\n",
    "    'logreg__C': [0.1, 1, 10, 100],\n",
    "    'logreg__penalty': ['l1', 'l2']\n",
    "}"
   ]
  },
  {
   "cell_type": "code",
   "execution_count": 12,
   "id": "5fb360c7-940b-4cf2-b108-0f5f42016549",
   "metadata": {},
   "outputs": [],
   "source": [
    "LRgs = GridSearchCV(LRpipe, \n",
    "                    param_grid=LRpipe_params, \n",
    "                    cv=5,\n",
    "                    scoring='f1',\n",
    "                    verbose=0) "
   ]
  },
  {
   "cell_type": "code",
   "execution_count": 13,
   "id": "9c868ee4-c246-4b8d-8ac1-abac6c1178db",
   "metadata": {
    "scrolled": true
   },
   "outputs": [
    {
     "name": "stderr",
     "output_type": "stream",
     "text": [
      "C:\\Users\\heziy\\.conda\\envs\\dsi-sg\\lib\\site-packages\\sklearn\\linear_model\\_logistic.py:444: ConvergenceWarning: lbfgs failed to converge (status=1):\n",
      "STOP: TOTAL NO. of ITERATIONS REACHED LIMIT.\n",
      "\n",
      "Increase the number of iterations (max_iter) or scale the data as shown in:\n",
      "    https://scikit-learn.org/stable/modules/preprocessing.html\n",
      "Please also refer to the documentation for alternative solver options:\n",
      "    https://scikit-learn.org/stable/modules/linear_model.html#logistic-regression\n",
      "  n_iter_i = _check_optimize_result(\n",
      "C:\\Users\\heziy\\.conda\\envs\\dsi-sg\\lib\\site-packages\\sklearn\\linear_model\\_logistic.py:444: ConvergenceWarning: lbfgs failed to converge (status=1):\n",
      "STOP: TOTAL NO. of ITERATIONS REACHED LIMIT.\n",
      "\n",
      "Increase the number of iterations (max_iter) or scale the data as shown in:\n",
      "    https://scikit-learn.org/stable/modules/preprocessing.html\n",
      "Please also refer to the documentation for alternative solver options:\n",
      "    https://scikit-learn.org/stable/modules/linear_model.html#logistic-regression\n",
      "  n_iter_i = _check_optimize_result(\n",
      "C:\\Users\\heziy\\.conda\\envs\\dsi-sg\\lib\\site-packages\\sklearn\\linear_model\\_logistic.py:444: ConvergenceWarning: lbfgs failed to converge (status=1):\n",
      "STOP: TOTAL NO. of ITERATIONS REACHED LIMIT.\n",
      "\n",
      "Increase the number of iterations (max_iter) or scale the data as shown in:\n",
      "    https://scikit-learn.org/stable/modules/preprocessing.html\n",
      "Please also refer to the documentation for alternative solver options:\n",
      "    https://scikit-learn.org/stable/modules/linear_model.html#logistic-regression\n",
      "  n_iter_i = _check_optimize_result(\n",
      "C:\\Users\\heziy\\.conda\\envs\\dsi-sg\\lib\\site-packages\\sklearn\\linear_model\\_logistic.py:444: ConvergenceWarning: lbfgs failed to converge (status=1):\n",
      "STOP: TOTAL NO. of ITERATIONS REACHED LIMIT.\n",
      "\n",
      "Increase the number of iterations (max_iter) or scale the data as shown in:\n",
      "    https://scikit-learn.org/stable/modules/preprocessing.html\n",
      "Please also refer to the documentation for alternative solver options:\n",
      "    https://scikit-learn.org/stable/modules/linear_model.html#logistic-regression\n",
      "  n_iter_i = _check_optimize_result(\n",
      "C:\\Users\\heziy\\.conda\\envs\\dsi-sg\\lib\\site-packages\\sklearn\\linear_model\\_logistic.py:444: ConvergenceWarning: lbfgs failed to converge (status=1):\n",
      "STOP: TOTAL NO. of ITERATIONS REACHED LIMIT.\n",
      "\n",
      "Increase the number of iterations (max_iter) or scale the data as shown in:\n",
      "    https://scikit-learn.org/stable/modules/preprocessing.html\n",
      "Please also refer to the documentation for alternative solver options:\n",
      "    https://scikit-learn.org/stable/modules/linear_model.html#logistic-regression\n",
      "  n_iter_i = _check_optimize_result(\n",
      "C:\\Users\\heziy\\.conda\\envs\\dsi-sg\\lib\\site-packages\\sklearn\\linear_model\\_logistic.py:444: ConvergenceWarning: lbfgs failed to converge (status=1):\n",
      "STOP: TOTAL NO. of ITERATIONS REACHED LIMIT.\n",
      "\n",
      "Increase the number of iterations (max_iter) or scale the data as shown in:\n",
      "    https://scikit-learn.org/stable/modules/preprocessing.html\n",
      "Please also refer to the documentation for alternative solver options:\n",
      "    https://scikit-learn.org/stable/modules/linear_model.html#logistic-regression\n",
      "  n_iter_i = _check_optimize_result(\n",
      "C:\\Users\\heziy\\.conda\\envs\\dsi-sg\\lib\\site-packages\\sklearn\\linear_model\\_logistic.py:444: ConvergenceWarning: lbfgs failed to converge (status=1):\n",
      "STOP: TOTAL NO. of ITERATIONS REACHED LIMIT.\n",
      "\n",
      "Increase the number of iterations (max_iter) or scale the data as shown in:\n",
      "    https://scikit-learn.org/stable/modules/preprocessing.html\n",
      "Please also refer to the documentation for alternative solver options:\n",
      "    https://scikit-learn.org/stable/modules/linear_model.html#logistic-regression\n",
      "  n_iter_i = _check_optimize_result(\n",
      "C:\\Users\\heziy\\.conda\\envs\\dsi-sg\\lib\\site-packages\\sklearn\\linear_model\\_logistic.py:444: ConvergenceWarning: lbfgs failed to converge (status=1):\n",
      "STOP: TOTAL NO. of ITERATIONS REACHED LIMIT.\n",
      "\n",
      "Increase the number of iterations (max_iter) or scale the data as shown in:\n",
      "    https://scikit-learn.org/stable/modules/preprocessing.html\n",
      "Please also refer to the documentation for alternative solver options:\n",
      "    https://scikit-learn.org/stable/modules/linear_model.html#logistic-regression\n",
      "  n_iter_i = _check_optimize_result(\n",
      "C:\\Users\\heziy\\.conda\\envs\\dsi-sg\\lib\\site-packages\\sklearn\\linear_model\\_logistic.py:444: ConvergenceWarning: lbfgs failed to converge (status=1):\n",
      "STOP: TOTAL NO. of ITERATIONS REACHED LIMIT.\n",
      "\n",
      "Increase the number of iterations (max_iter) or scale the data as shown in:\n",
      "    https://scikit-learn.org/stable/modules/preprocessing.html\n",
      "Please also refer to the documentation for alternative solver options:\n",
      "    https://scikit-learn.org/stable/modules/linear_model.html#logistic-regression\n",
      "  n_iter_i = _check_optimize_result(\n",
      "C:\\Users\\heziy\\.conda\\envs\\dsi-sg\\lib\\site-packages\\sklearn\\linear_model\\_logistic.py:444: ConvergenceWarning: lbfgs failed to converge (status=1):\n",
      "STOP: TOTAL NO. of ITERATIONS REACHED LIMIT.\n",
      "\n",
      "Increase the number of iterations (max_iter) or scale the data as shown in:\n",
      "    https://scikit-learn.org/stable/modules/preprocessing.html\n",
      "Please also refer to the documentation for alternative solver options:\n",
      "    https://scikit-learn.org/stable/modules/linear_model.html#logistic-regression\n",
      "  n_iter_i = _check_optimize_result(\n",
      "C:\\Users\\heziy\\.conda\\envs\\dsi-sg\\lib\\site-packages\\sklearn\\linear_model\\_logistic.py:444: ConvergenceWarning: lbfgs failed to converge (status=1):\n",
      "STOP: TOTAL NO. of ITERATIONS REACHED LIMIT.\n",
      "\n",
      "Increase the number of iterations (max_iter) or scale the data as shown in:\n",
      "    https://scikit-learn.org/stable/modules/preprocessing.html\n",
      "Please also refer to the documentation for alternative solver options:\n",
      "    https://scikit-learn.org/stable/modules/linear_model.html#logistic-regression\n",
      "  n_iter_i = _check_optimize_result(\n",
      "C:\\Users\\heziy\\.conda\\envs\\dsi-sg\\lib\\site-packages\\sklearn\\linear_model\\_logistic.py:444: ConvergenceWarning: lbfgs failed to converge (status=1):\n",
      "STOP: TOTAL NO. of ITERATIONS REACHED LIMIT.\n",
      "\n",
      "Increase the number of iterations (max_iter) or scale the data as shown in:\n",
      "    https://scikit-learn.org/stable/modules/preprocessing.html\n",
      "Please also refer to the documentation for alternative solver options:\n",
      "    https://scikit-learn.org/stable/modules/linear_model.html#logistic-regression\n",
      "  n_iter_i = _check_optimize_result(\n",
      "C:\\Users\\heziy\\.conda\\envs\\dsi-sg\\lib\\site-packages\\sklearn\\linear_model\\_logistic.py:444: ConvergenceWarning: lbfgs failed to converge (status=1):\n",
      "STOP: TOTAL NO. of ITERATIONS REACHED LIMIT.\n",
      "\n",
      "Increase the number of iterations (max_iter) or scale the data as shown in:\n",
      "    https://scikit-learn.org/stable/modules/preprocessing.html\n",
      "Please also refer to the documentation for alternative solver options:\n",
      "    https://scikit-learn.org/stable/modules/linear_model.html#logistic-regression\n",
      "  n_iter_i = _check_optimize_result(\n",
      "C:\\Users\\heziy\\.conda\\envs\\dsi-sg\\lib\\site-packages\\sklearn\\linear_model\\_logistic.py:444: ConvergenceWarning: lbfgs failed to converge (status=1):\n",
      "STOP: TOTAL NO. of ITERATIONS REACHED LIMIT.\n",
      "\n",
      "Increase the number of iterations (max_iter) or scale the data as shown in:\n",
      "    https://scikit-learn.org/stable/modules/preprocessing.html\n",
      "Please also refer to the documentation for alternative solver options:\n",
      "    https://scikit-learn.org/stable/modules/linear_model.html#logistic-regression\n",
      "  n_iter_i = _check_optimize_result(\n",
      "C:\\Users\\heziy\\.conda\\envs\\dsi-sg\\lib\\site-packages\\sklearn\\linear_model\\_logistic.py:444: ConvergenceWarning: lbfgs failed to converge (status=1):\n",
      "STOP: TOTAL NO. of ITERATIONS REACHED LIMIT.\n",
      "\n",
      "Increase the number of iterations (max_iter) or scale the data as shown in:\n",
      "    https://scikit-learn.org/stable/modules/preprocessing.html\n",
      "Please also refer to the documentation for alternative solver options:\n",
      "    https://scikit-learn.org/stable/modules/linear_model.html#logistic-regression\n",
      "  n_iter_i = _check_optimize_result(\n",
      "C:\\Users\\heziy\\.conda\\envs\\dsi-sg\\lib\\site-packages\\sklearn\\linear_model\\_logistic.py:444: ConvergenceWarning: lbfgs failed to converge (status=1):\n",
      "STOP: TOTAL NO. of ITERATIONS REACHED LIMIT.\n",
      "\n",
      "Increase the number of iterations (max_iter) or scale the data as shown in:\n",
      "    https://scikit-learn.org/stable/modules/preprocessing.html\n",
      "Please also refer to the documentation for alternative solver options:\n",
      "    https://scikit-learn.org/stable/modules/linear_model.html#logistic-regression\n",
      "  n_iter_i = _check_optimize_result(\n",
      "C:\\Users\\heziy\\.conda\\envs\\dsi-sg\\lib\\site-packages\\sklearn\\model_selection\\_validation.py:378: FitFailedWarning: \n",
      "640 fits failed out of a total of 1280.\n",
      "The score on these train-test partitions for these parameters will be set to nan.\n",
      "If these failures are not expected, you can try to debug them by setting error_score='raise'.\n",
      "\n",
      "Below are more details about the failures:\n",
      "--------------------------------------------------------------------------------\n",
      "640 fits failed with the following error:\n",
      "Traceback (most recent call last):\n",
      "  File \"C:\\Users\\heziy\\.conda\\envs\\dsi-sg\\lib\\site-packages\\sklearn\\model_selection\\_validation.py\", line 686, in _fit_and_score\n",
      "    estimator.fit(X_train, y_train, **fit_params)\n",
      "  File \"C:\\Users\\heziy\\.conda\\envs\\dsi-sg\\lib\\site-packages\\sklearn\\pipeline.py\", line 382, in fit\n",
      "    self._final_estimator.fit(Xt, y, **fit_params_last_step)\n",
      "  File \"C:\\Users\\heziy\\.conda\\envs\\dsi-sg\\lib\\site-packages\\sklearn\\linear_model\\_logistic.py\", line 1091, in fit\n",
      "    solver = _check_solver(self.solver, self.penalty, self.dual)\n",
      "  File \"C:\\Users\\heziy\\.conda\\envs\\dsi-sg\\lib\\site-packages\\sklearn\\linear_model\\_logistic.py\", line 61, in _check_solver\n",
      "    raise ValueError(\n",
      "ValueError: Solver lbfgs supports only 'l2' or 'none' penalties, got l1 penalty.\n",
      "\n",
      "  warnings.warn(some_fits_failed_message, FitFailedWarning)\n",
      "C:\\Users\\heziy\\.conda\\envs\\dsi-sg\\lib\\site-packages\\sklearn\\model_selection\\_search.py:953: UserWarning: One or more of the test scores are non-finite: [       nan 0.93287829        nan 0.9416156         nan 0.93132606\n",
      "        nan 0.92045095        nan 0.93421853        nan 0.93891433\n",
      "        nan 0.93205201        nan 0.92438729        nan 0.93178162\n",
      "        nan 0.94164271        nan 0.92709808        nan 0.91960686\n",
      "        nan 0.93496964        nan 0.93876534        nan 0.92562441\n",
      "        nan 0.91905082        nan 0.93287829        nan 0.9416156\n",
      "        nan 0.93132606        nan 0.92045095        nan 0.93421853\n",
      "        nan 0.93891433        nan 0.93205201        nan 0.92438729\n",
      "        nan 0.93178162        nan 0.94164271        nan 0.92709808\n",
      "        nan 0.91960686        nan 0.93496964        nan 0.93876534\n",
      "        nan 0.92562441        nan 0.91905082        nan 0.93287829\n",
      "        nan 0.9416156         nan 0.93132606        nan 0.92045095\n",
      "        nan 0.93421853        nan 0.93891433        nan 0.93205201\n",
      "        nan 0.92438729        nan 0.93178162        nan 0.94164271\n",
      "        nan 0.92709808        nan 0.91960686        nan 0.93496964\n",
      "        nan 0.93876534        nan 0.92562441        nan 0.91905082\n",
      "        nan 0.93287829        nan 0.9416156         nan 0.93132606\n",
      "        nan 0.92045095        nan 0.93421853        nan 0.93891433\n",
      "        nan 0.93205201        nan 0.92438729        nan 0.93178162\n",
      "        nan 0.94164271        nan 0.92709808        nan 0.91960686\n",
      "        nan 0.93496964        nan 0.93876534        nan 0.92562441\n",
      "        nan 0.91905082        nan 0.93287829        nan 0.9416156\n",
      "        nan 0.93132606        nan 0.92045095        nan 0.93421853\n",
      "        nan 0.93891433        nan 0.93205201        nan 0.92438729\n",
      "        nan 0.93178162        nan 0.94164271        nan 0.92709808\n",
      "        nan 0.91960686        nan 0.93496964        nan 0.93876534\n",
      "        nan 0.92562441        nan 0.91905082        nan 0.93287829\n",
      "        nan 0.9416156         nan 0.93132606        nan 0.92045095\n",
      "        nan 0.93421853        nan 0.93891433        nan 0.93205201\n",
      "        nan 0.92438729        nan 0.93178162        nan 0.94164271\n",
      "        nan 0.92709808        nan 0.91960686        nan 0.93496964\n",
      "        nan 0.93876534        nan 0.92562441        nan 0.91905082\n",
      "        nan 0.93287829        nan 0.9416156         nan 0.93132606\n",
      "        nan 0.92045095        nan 0.93421853        nan 0.93891433\n",
      "        nan 0.93205201        nan 0.92438729        nan 0.93178162\n",
      "        nan 0.94164271        nan 0.92709808        nan 0.91960686\n",
      "        nan 0.93496964        nan 0.93876534        nan 0.92562441\n",
      "        nan 0.91905082        nan 0.93287829        nan 0.9416156\n",
      "        nan 0.93132606        nan 0.92045095        nan 0.93421853\n",
      "        nan 0.93891433        nan 0.93205201        nan 0.92438729\n",
      "        nan 0.93178162        nan 0.94164271        nan 0.92709808\n",
      "        nan 0.91960686        nan 0.93496964        nan 0.93876534\n",
      "        nan 0.92562441        nan 0.91905082]\n",
      "  warnings.warn(\n"
     ]
    },
    {
     "data": {
      "text/html": [
       "<style>#sk-container-id-2 {color: black;background-color: white;}#sk-container-id-2 pre{padding: 0;}#sk-container-id-2 div.sk-toggleable {background-color: white;}#sk-container-id-2 label.sk-toggleable__label {cursor: pointer;display: block;width: 100%;margin-bottom: 0;padding: 0.3em;box-sizing: border-box;text-align: center;}#sk-container-id-2 label.sk-toggleable__label-arrow:before {content: \"▸\";float: left;margin-right: 0.25em;color: #696969;}#sk-container-id-2 label.sk-toggleable__label-arrow:hover:before {color: black;}#sk-container-id-2 div.sk-estimator:hover label.sk-toggleable__label-arrow:before {color: black;}#sk-container-id-2 div.sk-toggleable__content {max-height: 0;max-width: 0;overflow: hidden;text-align: left;background-color: #f0f8ff;}#sk-container-id-2 div.sk-toggleable__content pre {margin: 0.2em;color: black;border-radius: 0.25em;background-color: #f0f8ff;}#sk-container-id-2 input.sk-toggleable__control:checked~div.sk-toggleable__content {max-height: 200px;max-width: 100%;overflow: auto;}#sk-container-id-2 input.sk-toggleable__control:checked~label.sk-toggleable__label-arrow:before {content: \"▾\";}#sk-container-id-2 div.sk-estimator input.sk-toggleable__control:checked~label.sk-toggleable__label {background-color: #d4ebff;}#sk-container-id-2 div.sk-label input.sk-toggleable__control:checked~label.sk-toggleable__label {background-color: #d4ebff;}#sk-container-id-2 input.sk-hidden--visually {border: 0;clip: rect(1px 1px 1px 1px);clip: rect(1px, 1px, 1px, 1px);height: 1px;margin: -1px;overflow: hidden;padding: 0;position: absolute;width: 1px;}#sk-container-id-2 div.sk-estimator {font-family: monospace;background-color: #f0f8ff;border: 1px dotted black;border-radius: 0.25em;box-sizing: border-box;margin-bottom: 0.5em;}#sk-container-id-2 div.sk-estimator:hover {background-color: #d4ebff;}#sk-container-id-2 div.sk-parallel-item::after {content: \"\";width: 100%;border-bottom: 1px solid gray;flex-grow: 1;}#sk-container-id-2 div.sk-label:hover label.sk-toggleable__label {background-color: #d4ebff;}#sk-container-id-2 div.sk-serial::before {content: \"\";position: absolute;border-left: 1px solid gray;box-sizing: border-box;top: 0;bottom: 0;left: 50%;z-index: 0;}#sk-container-id-2 div.sk-serial {display: flex;flex-direction: column;align-items: center;background-color: white;padding-right: 0.2em;padding-left: 0.2em;position: relative;}#sk-container-id-2 div.sk-item {position: relative;z-index: 1;}#sk-container-id-2 div.sk-parallel {display: flex;align-items: stretch;justify-content: center;background-color: white;position: relative;}#sk-container-id-2 div.sk-item::before, #sk-container-id-2 div.sk-parallel-item::before {content: \"\";position: absolute;border-left: 1px solid gray;box-sizing: border-box;top: 0;bottom: 0;left: 50%;z-index: -1;}#sk-container-id-2 div.sk-parallel-item {display: flex;flex-direction: column;z-index: 1;position: relative;background-color: white;}#sk-container-id-2 div.sk-parallel-item:first-child::after {align-self: flex-end;width: 50%;}#sk-container-id-2 div.sk-parallel-item:last-child::after {align-self: flex-start;width: 50%;}#sk-container-id-2 div.sk-parallel-item:only-child::after {width: 0;}#sk-container-id-2 div.sk-dashed-wrapped {border: 1px dashed gray;margin: 0 0.4em 0.5em 0.4em;box-sizing: border-box;padding-bottom: 0.4em;background-color: white;}#sk-container-id-2 div.sk-label label {font-family: monospace;font-weight: bold;display: inline-block;line-height: 1.2em;}#sk-container-id-2 div.sk-label-container {text-align: center;}#sk-container-id-2 div.sk-container {/* jupyter's `normalize.less` sets `[hidden] { display: none; }` but bootstrap.min.css set `[hidden] { display: none !important; }` so we also need the `!important` here to be able to override the default hidden behavior on the sphinx rendered scikit-learn.org. See: https://github.com/scikit-learn/scikit-learn/issues/21755 */display: inline-block !important;position: relative;}#sk-container-id-2 div.sk-text-repr-fallback {display: none;}</style><div id=\"sk-container-id-2\" class=\"sk-top-container\"><div class=\"sk-text-repr-fallback\"><pre>GridSearchCV(cv=5,\n",
       "             estimator=Pipeline(steps=[(&#x27;cvec&#x27;, CountVectorizer()),\n",
       "                                       (&#x27;logreg&#x27;, LogisticRegression())]),\n",
       "             param_grid={&#x27;cvec__max_df&#x27;: [0.9, 0.95],\n",
       "                         &#x27;cvec__max_features&#x27;: [2000, 3000, 4000, 5000],\n",
       "                         &#x27;cvec__min_df&#x27;: [2, 3],\n",
       "                         &#x27;cvec__ngram_range&#x27;: [(1, 1), (1, 2)],\n",
       "                         &#x27;cvec__stop_words&#x27;: [&#x27;english&#x27;],\n",
       "                         &#x27;logreg__C&#x27;: [0.1, 1, 10, 100],\n",
       "                         &#x27;logreg__penalty&#x27;: [&#x27;l1&#x27;, &#x27;l2&#x27;]},\n",
       "             scoring=&#x27;f1&#x27;)</pre><b>In a Jupyter environment, please rerun this cell to show the HTML representation or trust the notebook. <br />On GitHub, the HTML representation is unable to render, please try loading this page with nbviewer.org.</b></div><div class=\"sk-container\" hidden><div class=\"sk-item sk-dashed-wrapped\"><div class=\"sk-label-container\"><div class=\"sk-label sk-toggleable\"><input class=\"sk-toggleable__control sk-hidden--visually\" id=\"sk-estimator-id-5\" type=\"checkbox\" ><label for=\"sk-estimator-id-5\" class=\"sk-toggleable__label sk-toggleable__label-arrow\">GridSearchCV</label><div class=\"sk-toggleable__content\"><pre>GridSearchCV(cv=5,\n",
       "             estimator=Pipeline(steps=[(&#x27;cvec&#x27;, CountVectorizer()),\n",
       "                                       (&#x27;logreg&#x27;, LogisticRegression())]),\n",
       "             param_grid={&#x27;cvec__max_df&#x27;: [0.9, 0.95],\n",
       "                         &#x27;cvec__max_features&#x27;: [2000, 3000, 4000, 5000],\n",
       "                         &#x27;cvec__min_df&#x27;: [2, 3],\n",
       "                         &#x27;cvec__ngram_range&#x27;: [(1, 1), (1, 2)],\n",
       "                         &#x27;cvec__stop_words&#x27;: [&#x27;english&#x27;],\n",
       "                         &#x27;logreg__C&#x27;: [0.1, 1, 10, 100],\n",
       "                         &#x27;logreg__penalty&#x27;: [&#x27;l1&#x27;, &#x27;l2&#x27;]},\n",
       "             scoring=&#x27;f1&#x27;)</pre></div></div></div><div class=\"sk-parallel\"><div class=\"sk-parallel-item\"><div class=\"sk-item\"><div class=\"sk-label-container\"><div class=\"sk-label sk-toggleable\"><input class=\"sk-toggleable__control sk-hidden--visually\" id=\"sk-estimator-id-6\" type=\"checkbox\" ><label for=\"sk-estimator-id-6\" class=\"sk-toggleable__label sk-toggleable__label-arrow\">estimator: Pipeline</label><div class=\"sk-toggleable__content\"><pre>Pipeline(steps=[(&#x27;cvec&#x27;, CountVectorizer()), (&#x27;logreg&#x27;, LogisticRegression())])</pre></div></div></div><div class=\"sk-serial\"><div class=\"sk-item\"><div class=\"sk-serial\"><div class=\"sk-item\"><div class=\"sk-estimator sk-toggleable\"><input class=\"sk-toggleable__control sk-hidden--visually\" id=\"sk-estimator-id-7\" type=\"checkbox\" ><label for=\"sk-estimator-id-7\" class=\"sk-toggleable__label sk-toggleable__label-arrow\">CountVectorizer</label><div class=\"sk-toggleable__content\"><pre>CountVectorizer()</pre></div></div></div><div class=\"sk-item\"><div class=\"sk-estimator sk-toggleable\"><input class=\"sk-toggleable__control sk-hidden--visually\" id=\"sk-estimator-id-8\" type=\"checkbox\" ><label for=\"sk-estimator-id-8\" class=\"sk-toggleable__label sk-toggleable__label-arrow\">LogisticRegression</label><div class=\"sk-toggleable__content\"><pre>LogisticRegression()</pre></div></div></div></div></div></div></div></div></div></div></div></div>"
      ],
      "text/plain": [
       "GridSearchCV(cv=5,\n",
       "             estimator=Pipeline(steps=[('cvec', CountVectorizer()),\n",
       "                                       ('logreg', LogisticRegression())]),\n",
       "             param_grid={'cvec__max_df': [0.9, 0.95],\n",
       "                         'cvec__max_features': [2000, 3000, 4000, 5000],\n",
       "                         'cvec__min_df': [2, 3],\n",
       "                         'cvec__ngram_range': [(1, 1), (1, 2)],\n",
       "                         'cvec__stop_words': ['english'],\n",
       "                         'logreg__C': [0.1, 1, 10, 100],\n",
       "                         'logreg__penalty': ['l1', 'l2']},\n",
       "             scoring='f1')"
      ]
     },
     "execution_count": 13,
     "metadata": {},
     "output_type": "execute_result"
    }
   ],
   "source": [
    "LRgs.fit(X_train, y_train)"
   ]
  },
  {
   "cell_type": "code",
   "execution_count": 14,
   "id": "730bbce8-de71-43b8-b1c9-4e5d8a02c529",
   "metadata": {},
   "outputs": [
    {
     "data": {
      "text/plain": [
       "{'cvec__max_df': 0.9,\n",
       " 'cvec__max_features': 2000,\n",
       " 'cvec__min_df': 3,\n",
       " 'cvec__ngram_range': (1, 1),\n",
       " 'cvec__stop_words': 'english',\n",
       " 'logreg__C': 1,\n",
       " 'logreg__penalty': 'l2'}"
      ]
     },
     "execution_count": 14,
     "metadata": {},
     "output_type": "execute_result"
    }
   ],
   "source": [
    "LRgs.best_params_"
   ]
  },
  {
   "cell_type": "code",
   "execution_count": 15,
   "id": "0afaaece-eb3b-4c08-ad6e-cc773922e5aa",
   "metadata": {},
   "outputs": [
    {
     "data": {
      "text/plain": [
       "0.9798994974874372"
      ]
     },
     "execution_count": 15,
     "metadata": {},
     "output_type": "execute_result"
    }
   ],
   "source": [
    "LRgs.score(X_train, y_train)"
   ]
  },
  {
   "cell_type": "code",
   "execution_count": 16,
   "id": "cf332b2f-54da-4f32-91b1-ee0d34a7bfae",
   "metadata": {},
   "outputs": [
    {
     "data": {
      "text/plain": [
       "0.9562289562289563"
      ]
     },
     "execution_count": 16,
     "metadata": {},
     "output_type": "execute_result"
    }
   ],
   "source": [
    "LRgs.score(X_test, y_test)"
   ]
  },
  {
   "cell_type": "markdown",
   "id": "a55d3f66-6b8f-41bd-80da-56b52dbca220",
   "metadata": {},
   "source": [
    "The model looks better fitted compared to the Naive Bayes, but they have similar F1 score on the testing set"
   ]
  },
  {
   "cell_type": "code",
   "execution_count": 17,
   "id": "37a1c115-8e95-4d0b-93ba-629c7c225cf2",
   "metadata": {},
   "outputs": [
    {
     "name": "stderr",
     "output_type": "stream",
     "text": [
      "C:\\Users\\heziy\\.conda\\envs\\dsi-sg\\lib\\site-packages\\sklearn\\utils\\deprecation.py:87: FutureWarning: Function plot_confusion_matrix is deprecated; Function `plot_confusion_matrix` is deprecated in 1.0 and will be removed in 1.2. Use one of the class methods: ConfusionMatrixDisplay.from_predictions or ConfusionMatrixDisplay.from_estimator.\n",
      "  warnings.warn(msg, category=FutureWarning)\n"
     ]
    },
    {
     "data": {
      "image/png": "[encoded data removed]",
      "text/plain": [
       "<Figure size 640x480 with 2 Axes>"
      ]
     },
     "metadata": {},
     "output_type": "display_data"
    }
   ],
   "source": [
    "# predict with Logistic Regression Model\n",
    "LR_pred = LRgs.predict(X_test)\n",
    "\n",
    "# Save confusion matrix values\n",
    "LR_tn, LR_fp, LR_fn, LR_tp = confusion_matrix(y_test, LR_pred).ravel()\n",
    "\n",
    "# Plot confusion matrix\n",
    "plot_confusion_matrix(LRgs, X_test, y_test, cmap='Blues', values_format='d');"
   ]
  },
  {
   "cell_type": "code",
   "execution_count": 18,
   "id": "decfe6dd-3eda-4582-98cc-bc1d1b6ee1d3",
   "metadata": {},
   "outputs": [
    {
     "name": "stdout",
     "output_type": "stream",
     "text": [
      "recall for the Logistic Regression model is 0.9466666666666667\n",
      "precision for the Logistic Regression model is 0.9659863945578231\n",
      "F1 score for the Logistic Regression model is 0.9562289562289563\n",
      "\n",
      "recall for the Naive Bayes model is 0.9466666666666667\n",
      "precision for the Naive Bayes model is 0.9530201342281879\n",
      "F1 score for the Naive Bayes model is 0.9498327759197325\n"
     ]
    }
   ],
   "source": [
    "print(f'recall for the Logistic Regression model is {LR_tp/(LR_tp+LR_fn)}')\n",
    "print(f'precision for the Logistic Regression model is {LR_tp/(LR_tp+LR_fp)}')\n",
    "print(f'F1 score for the Logistic Regression model is {LRgs.score(X_test, y_test)}')\n",
    "print('')\n",
    "print(f'recall for the Naive Bayes model is {NB_tp/(NB_tp+NB_fn)}')\n",
    "print(f'precision for the Naive Bayes model is {NB_tp/(NB_tp+NB_fp)}')\n",
    "print(f'F1 score for the Naive Bayes model is {NBgs.score(X_test, y_test)}')"
   ]
  },
  {
   "cell_type": "markdown",
   "id": "66429078-e520-49e4-9f0d-96ac569eec25",
   "metadata": {},
   "source": [
    "Despite the above differences in recall and precision across Logistic Regression Model and Naive Bayes Model, they both have similar F1 score in the test set, with Logistic Regression better by 0.65% than Naive Bayse"
   ]
  },
  {
   "cell_type": "markdown",
   "id": "8abbc6e3-57a4-45f2-a6d9-425020927116",
   "metadata": {},
   "source": [
    "Since the improvement is not significant, considering the model run time, I have decided to stick with Naive Bayes"
   ]
  },
  {
   "cell_type": "markdown",
   "id": "7d226c5e-cff7-4bcc-ad8f-747129163783",
   "metadata": {},
   "source": [
    "To further test out the model's ability in identifying Apple's subreddit, I am going to webscrape a completely different subreddit and put the model to test.  \n",
    "\n",
    "To also properly replicate the live environment, such random test would not be saved for future re-run. "
   ]
  },
  {
   "cell_type": "markdown",
   "id": "0107e9d0-bf0a-404b-be80-8736bf78d134",
   "metadata": {},
   "source": [
    "### Challenge to the model (Naive Bayes)"
   ]
  },
  {
   "cell_type": "code",
   "execution_count": 19,
   "id": "d0344680-a89a-491a-b295-dfbe17845f50",
   "metadata": {},
   "outputs": [
    {
     "data": {
      "text/plain": [
       "(742, 1)"
      ]
     },
     "execution_count": 19,
     "metadata": {},
     "output_type": "execute_result"
    }
   ],
   "source": [
    "import requests\n",
    "import time\n",
    "\n",
    "url = 'https://www.reddit.com/r/honeymoonplanning/new.json' # a completely random topic\n",
    "headers = {'User-agent': 'meehhh'}\n",
    "\n",
    "titles = []\n",
    "after = None # a query parameter in the URL, a key to scrape consecutively\n",
    "\n",
    "# to scrape 30 times\n",
    "for _ in range(30):\n",
    "    if after == None:\n",
    "        params = {}\n",
    "    else:\n",
    "        params = {'after': after}\n",
    "    res = requests.get(url, params=params, headers=headers)\n",
    "    if res.status_code == 200: # if successful\n",
    "        data = res.json()\n",
    "        for row in data['data']['children']:\n",
    "            titles.append(row['data']['title']) # to scrape only the title\n",
    "        after = data['data']['after'] # update query parameter\n",
    "    else: \n",
    "        print(res.status_code)\n",
    "        break\n",
    "    time.sleep(2)\n",
    "\n",
    "random_post = pd.DataFrame(titles)\n",
    "random_post = random_post.drop_duplicates()\n",
    "random_post.shape"
   ]
  },
  {
   "cell_type": "code",
   "execution_count": 20,
   "id": "bf986736-07ca-47ff-a86b-d53cfb9843a6",
   "metadata": {},
   "outputs": [
    {
     "data": {
      "text/html": [
       "<div>\n",
       "<style scoped>\n",
       "    .dataframe tbody tr th:only-of-type {\n",
       "        vertical-align: middle;\n",
       "    }\n",
       "\n",
       "    .dataframe tbody tr th {\n",
       "        vertical-align: top;\n",
       "    }\n",
       "\n",
       "    .dataframe thead th {\n",
       "        text-align: right;\n",
       "    }\n",
       "</style>\n",
       "<table border=\"1\" class=\"dataframe\">\n",
       "  <thead>\n",
       "    <tr style=\"text-align: right;\">\n",
       "      <th></th>\n",
       "      <th>title</th>\n",
       "      <th>label</th>\n",
       "    </tr>\n",
       "  </thead>\n",
       "  <tbody>\n",
       "    <tr>\n",
       "      <th>0</th>\n",
       "      <td>Honeymoon travel agencies/advisors you’d recom...</td>\n",
       "      <td>0</td>\n",
       "    </tr>\n",
       "    <tr>\n",
       "      <th>1</th>\n",
       "      <td>Accessible beachy winter honeymoon destination...</td>\n",
       "      <td>0</td>\n",
       "    </tr>\n",
       "    <tr>\n",
       "      <th>2</th>\n",
       "      <td>Honeymoon in Bali</td>\n",
       "      <td>0</td>\n",
       "    </tr>\n",
       "    <tr>\n",
       "      <th>3</th>\n",
       "      <td>Island honeymoon</td>\n",
       "      <td>0</td>\n",
       "    </tr>\n",
       "    <tr>\n",
       "      <th>4</th>\n",
       "      <td>Honeymoon Australia and Possibly Fiji from NYC</td>\n",
       "      <td>0</td>\n",
       "    </tr>\n",
       "  </tbody>\n",
       "</table>\n",
       "</div>"
      ],
      "text/plain": [
       "                                               title  label\n",
       "0  Honeymoon travel agencies/advisors you’d recom...      0\n",
       "1  Accessible beachy winter honeymoon destination...      0\n",
       "2                                  Honeymoon in Bali      0\n",
       "3                                   Island honeymoon      0\n",
       "4     Honeymoon Australia and Possibly Fiji from NYC      0"
      ]
     },
     "execution_count": 20,
     "metadata": {},
     "output_type": "execute_result"
    }
   ],
   "source": [
    "random_post['label'] = 0 # label all to 0 as none of the topic belongs to \"Apple\" subreddit\n",
    "random_post.columns=['title','label']\n",
    "random_post.head()"
   ]
  },
  {
   "cell_type": "markdown",
   "id": "84f660ca-ab0e-4f35-8288-6b6cc17b80f9",
   "metadata": {},
   "source": [
    "The idea is that, if the model is able to generalise well, the model should be able to return most as 0"
   ]
  },
  {
   "cell_type": "code",
   "execution_count": 21,
   "id": "0d1c66cb-2fc8-41bc-bfc9-159029af3c17",
   "metadata": {},
   "outputs": [],
   "source": [
    "# assign variables\n",
    "random_X = random_post['title']\n",
    "random_y = random_post['label']"
   ]
  },
  {
   "cell_type": "code",
   "execution_count": 22,
   "id": "81e94e60-96dd-4ee2-ba40-5285dd5eadbe",
   "metadata": {},
   "outputs": [],
   "source": [
    "# Initiate count vectoriser following the best paramater identified for Naive Bayes model\n",
    "# fit the vectoriser with the training set that we have\n",
    "Vector = CountVectorizer(max_df=0.9, min_df=2, max_features=2000, ngram_range=(1, 2), stop_words='english')\n",
    "Vector.fit(X_train)\n",
    "\n",
    "# transform the test post\n",
    "random_X_t = Vector.transform(random_X)"
   ]
  },
  {
   "cell_type": "code",
   "execution_count": 23,
   "id": "c1871607-9b54-42a5-82b5-a61310b2ee94",
   "metadata": {},
   "outputs": [
    {
     "name": "stderr",
     "output_type": "stream",
     "text": [
      "C:\\Users\\heziy\\.conda\\envs\\dsi-sg\\lib\\site-packages\\sklearn\\utils\\deprecation.py:87: FutureWarning: Function plot_confusion_matrix is deprecated; Function `plot_confusion_matrix` is deprecated in 1.0 and will be removed in 1.2. Use one of the class methods: ConfusionMatrixDisplay.from_predictions or ConfusionMatrixDisplay.from_estimator.\n",
      "  warnings.warn(msg, category=FutureWarning)\n"
     ]
    },
    {
     "data": {
      "image/png": "[encoded data removed]",
      "text/plain": [
       "<Figure size 640x480 with 2 Axes>"
      ]
     },
     "metadata": {},
     "output_type": "display_data"
    }
   ],
   "source": [
    "# initialise Naive Bayes\n",
    "NB = MultinomialNB()\n",
    "\n",
    "# train the model based on the training data that we have\n",
    "NB.fit(Vector.transform(X_train), y_train)\n",
    "\n",
    "# make prediction on test post\n",
    "plot_confusion_matrix(NB, random_X_t, random_y, cmap='Blues', values_format='d');"
   ]
  },
  {
   "cell_type": "markdown",
   "id": "35cf3fed-1401-4d44-8c6c-1b55a4abf9d0",
   "metadata": {},
   "source": [
    "Horrible results! The model only manages to identify 23% of the posts that are not from Apple subreddit.  \n",
    "Let us attempt to find out why"
   ]
  },
  {
   "cell_type": "code",
   "execution_count": 24,
   "id": "ca345b5f-67ed-49f4-9d1a-1adc365488fc",
   "metadata": {},
   "outputs": [
    {
     "data": {
      "text/plain": [
       "<AxesSubplot: >"
      ]
     },
     "execution_count": 24,
     "metadata": {},
     "output_type": "execute_result"
    },
    {
     "data": {
      "image/png": "[encoded data removed]",
      "text/plain": [
       "<Figure size 640x480 with 1 Axes>"
      ]
     },
     "metadata": {},
     "output_type": "display_data"
    }
   ],
   "source": [
    "# EDA on random post\n",
    "test_df = pd.DataFrame(random_X_t.todense(), columns=Vector.get_feature_names_out())\n",
    "test_df.sum().sort_values(ascending=False).head(10).plot(kind='barh')"
   ]
  },
  {
   "cell_type": "markdown",
   "id": "88e9a699-4ec3-4625-b3e3-7dfab5fbea68",
   "metadata": {},
   "source": [
    "It looks like the feature \"2024\" might be the problem, where we also saw \"2024\" appears in our training vector under the Apple.  \n",
    "Let's try to remove the 2024 element and see if the model could offer any improvement"
   ]
  },
  {
   "cell_type": "code",
   "execution_count": 25,
   "id": "723c4b15-599b-4bfb-b895-2cb22608f299",
   "metadata": {},
   "outputs": [
    {
     "data": {
      "text/plain": [
       "57"
      ]
     },
     "execution_count": 25,
     "metadata": {},
     "output_type": "execute_result"
    }
   ],
   "source": [
    "# identify the column location of \"2024\" in the sparse matrix\n",
    "origin = Vector.transform(X_train)\n",
    "origin_df = pd.DataFrame(origin.todense(), columns=Vector.get_feature_names_out())\n",
    "origin_df.columns.get_loc('2024')"
   ]
  },
  {
   "cell_type": "code",
   "execution_count": 26,
   "id": "76ea3f57-3436-4b38-866f-69d8c3d3ec53",
   "metadata": {},
   "outputs": [
    {
     "data": {
      "text/plain": [
       "<986x1426 sparse matrix of type '<class 'numpy.int64'>'\n",
       "\twith 7796 stored elements in Compressed Sparse Row format>"
      ]
     },
     "execution_count": 26,
     "metadata": {},
     "output_type": "execute_result"
    }
   ],
   "source": [
    "# remove the \"2024\" column (column 57) in the sparse matrix\n",
    "origin_n2024 = origin[:, [x for x in range(origin.shape[1]) if x != 57]]\n",
    "origin_n2024"
   ]
  },
  {
   "cell_type": "code",
   "execution_count": 27,
   "id": "dbbe8238-2981-4288-81be-fff4d3e07bd3",
   "metadata": {},
   "outputs": [
    {
     "data": {
      "text/plain": [
       "<742x1426 sparse matrix of type '<class 'numpy.int64'>'\n",
       "\twith 712 stored elements in Compressed Sparse Row format>"
      ]
     },
     "execution_count": 27,
     "metadata": {},
     "output_type": "execute_result"
    }
   ],
   "source": [
    "# remove the same column in the matrix from random test\n",
    "random_X_t2 = random_X_t[:, [x for x in range(random_X_t.shape[1]) if x != 57]]\n",
    "random_X_t2"
   ]
  },
  {
   "cell_type": "code",
   "execution_count": 28,
   "id": "30a56f69-9eea-4666-a14e-40b7cd90bf0d",
   "metadata": {
    "scrolled": true
   },
   "outputs": [
    {
     "name": "stderr",
     "output_type": "stream",
     "text": [
      "C:\\Users\\heziy\\.conda\\envs\\dsi-sg\\lib\\site-packages\\sklearn\\utils\\deprecation.py:87: FutureWarning: Function plot_confusion_matrix is deprecated; Function `plot_confusion_matrix` is deprecated in 1.0 and will be removed in 1.2. Use one of the class methods: ConfusionMatrixDisplay.from_predictions or ConfusionMatrixDisplay.from_estimator.\n",
      "  warnings.warn(msg, category=FutureWarning)\n"
     ]
    },
    {
     "data": {
      "image/png": "[encoded data removed]",
      "text/plain": [
       "<Figure size 640x480 with 2 Axes>"
      ]
     },
     "metadata": {},
     "output_type": "display_data"
    }
   ],
   "source": [
    "# initialise a new Naive Bayes\n",
    "NB2 = MultinomialNB()\n",
    "\n",
    "# train the model using the new sparse matrix without 2024\n",
    "NB2.fit(origin_n2024, y_train)\n",
    "\n",
    "# # make prediction on test post\n",
    "plot_confusion_matrix(NB2, random_X_t2, random_y, cmap='Blues', values_format='d');"
   ]
  },
  {
   "cell_type": "markdown",
   "id": "8e50e989-f421-4acf-8ca0-0abc6b3b37e6",
   "metadata": {},
   "source": [
    "The result seems to have improve but it is not significant, from 23% success rate (172/742) to 25% (189/742).  \n",
    "Let's continue to explore by removing the word \"help\" as well"
   ]
  },
  {
   "cell_type": "code",
   "execution_count": 29,
   "id": "a4d139eb-3d15-4aa0-b1a0-c7af74ad823d",
   "metadata": {},
   "outputs": [
    {
     "data": {
      "text/plain": [
       "635"
      ]
     },
     "execution_count": 29,
     "metadata": {},
     "output_type": "execute_result"
    }
   ],
   "source": [
    "origin_df.columns.get_loc('help')"
   ]
  },
  {
   "cell_type": "code",
   "execution_count": 30,
   "id": "e581bc39-aacd-4487-9bdf-fb23b171028f",
   "metadata": {},
   "outputs": [
    {
     "data": {
      "text/plain": [
       "<986x1425 sparse matrix of type '<class 'numpy.int64'>'\n",
       "\twith 7789 stored elements in Compressed Sparse Row format>"
      ]
     },
     "execution_count": 30,
     "metadata": {},
     "output_type": "execute_result"
    }
   ],
   "source": [
    "# remove the \"2024\" column (column 57) and \"help\" (column 635) in the sparse matrix\n",
    "origin_n2024nhelp = origin[:, [x for x in range(origin.shape[1]) if x not in [57,635]]]\n",
    "origin_n2024nhelp"
   ]
  },
  {
   "cell_type": "code",
   "execution_count": 31,
   "id": "0a7206d9-df1e-4ee4-8a6e-c4b7b4eb45b9",
   "metadata": {},
   "outputs": [
    {
     "data": {
      "text/plain": [
       "<742x1425 sparse matrix of type '<class 'numpy.int64'>'\n",
       "\twith 637 stored elements in Compressed Sparse Row format>"
      ]
     },
     "execution_count": 31,
     "metadata": {},
     "output_type": "execute_result"
    }
   ],
   "source": [
    "# remove the same column in the matrix from random test\n",
    "random_X_t3 = random_X_t[:, [x for x in range(random_X_t.shape[1]) if x not in [57,635]]]\n",
    "random_X_t3"
   ]
  },
  {
   "cell_type": "code",
   "execution_count": 32,
   "id": "298cd5ee-5ad3-4791-8970-28d50e493a8a",
   "metadata": {},
   "outputs": [
    {
     "name": "stderr",
     "output_type": "stream",
     "text": [
      "C:\\Users\\heziy\\.conda\\envs\\dsi-sg\\lib\\site-packages\\sklearn\\utils\\deprecation.py:87: FutureWarning: Function plot_confusion_matrix is deprecated; Function `plot_confusion_matrix` is deprecated in 1.0 and will be removed in 1.2. Use one of the class methods: ConfusionMatrixDisplay.from_predictions or ConfusionMatrixDisplay.from_estimator.\n",
      "  warnings.warn(msg, category=FutureWarning)\n"
     ]
    },
    {
     "data": {
      "image/png": "[encoded data removed]",
      "text/plain": [
       "<Figure size 640x480 with 2 Axes>"
      ]
     },
     "metadata": {},
     "output_type": "display_data"
    }
   ],
   "source": [
    "# initialise a new Naive Bayes\n",
    "NB3 = MultinomialNB()\n",
    "\n",
    "# train the model using the new sparse matrix without \"2024\" and \"help\"\n",
    "NB3.fit(origin_n2024nhelp, y_train)\n",
    "\n",
    "# # make prediction on test post\n",
    "plot_confusion_matrix(NB3, random_X_t3, random_y, cmap='Blues', values_format='d');"
   ]
  },
  {
   "cell_type": "markdown",
   "id": "d8496eac-9756-410a-affd-4dcd4b9900a4",
   "metadata": {},
   "source": [
    "It looks like the model cannot be further improve.  \n",
    "I believe the problem might be from some of the common words that appear in both Apple subreddit and our random post (honeymoon)  \n",
    "In particular, both the strings \"2024\" and \"advice\" seem to appear in both Apple subreddit and our chosen random post  \n",
    "\n",
    "This might make the model falsely categorise title with these words as belonging to the Apple subreddit. "
   ]
  },
  {
   "cell_type": "markdown",
   "id": "ab71ae19-523a-4ff9-b771-6e618d2a2833",
   "metadata": {},
   "source": [
    "### Conclusion and Improvement"
   ]
  },
  {
   "cell_type": "markdown",
   "id": "051b29d8-3ec6-45ec-8dd9-8e86cd64cdcf",
   "metadata": {},
   "source": [
    "Both Naive Bayes and Logistic Regression managed to do binary classification well between Apple and Android subreddit.  \n",
    "They managed to both achieve at least 95% F1 score in the testing set.  \n",
    "However, the model seems to perform poorly in data that are not from either Apple and Android subreddit, indicating the model does not generalise well.  \n",
    "\n",
    "Below factors might contribute to the poor performance in generalisation:  \n",
    "1. Lack of holistic dataset training  \n",
    "   Count Vectorizer was only applied to strings data from Apple and Android subreddits, information from other sources have not been considered. The lack fo holistic data limits the model to only accurately classify posts from the either subreddits. One way to improve is to incooprate more data, and attempt multi-class classification, where data can be further distinctively divided.\n",
    "     \n",
    "2. Redundent information in the dataset for generalised purpose  \n",
    "   Data such as the title \"Daily Advice Thread\" in the Apple subreddit and other numerical values such as date and time might not offer significant values when it comes to generalisation outside the binary classification. One way to improve is probably to remove such redundent data during the exploretary process, but determining redundency posts another challenge and it could lead to data leakage potentially.\n",
    "     \n",
    "3. Might just be wrong business problem  \n",
    "   The whole focus of the project is to identify where a particular title belongs to amongst *TWO* subreddit. It is not to classify any unseen title that is outside of the two subreddits. In order to identify if any titles belong to Apple subreddit, one might need to build a different model that assign a probabilistic value to the unseen title, instead of a binary \"yes\" or \"no\". \n",
    "     \n",
    " "
   ]
  },
  {
   "cell_type": "code",
   "execution_count": null,
   "id": "5a65a0b5-cf79-4239-9dd2-c496448cfa80",
   "metadata": {},
   "outputs": [],
   "source": []
  },
  {
   "cell_type": "code",
   "execution_count": null,
   "id": "224ad279-df0b-44ec-b657-8daa7c7e034d",
   "metadata": {},
   "outputs": [],
   "source": []
  },
  {
   "cell_type": "code",
   "execution_count": null,
   "id": "ff3d737d-1e1d-4b6d-9a59-6f9b89455a76",
   "metadata": {},
   "outputs": [],
   "source": []
  }
 ],
 "metadata": {
  "kernelspec": {
   "display_name": "Python 3 (ipykernel)",
   "language": "python",
   "name": "python3"
  },
  "language_info": {
   "codemirror_mode": {
    "name": "ipython",
    "version": 3
   },
   "file_extension": ".py",
   "mimetype": "text/x-python",
   "name": "python",
   "nbconvert_exporter": "python",
   "pygments_lexer": "ipython3",
   "version": "3.10.13"
  }
 },
 "nbformat": 4,
 "nbformat_minor": 5
}
