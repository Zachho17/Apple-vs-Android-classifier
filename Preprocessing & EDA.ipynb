{
 "cells": [
  {
   "cell_type": "code",
   "execution_count": 1,
   "id": "24817a71-96f7-424f-b79b-10975edc3cb3",
   "metadata": {},
   "outputs": [
    {
     "data": {
      "text/html": [
       "<div>\n",
       "<style scoped>\n",
       "    .dataframe tbody tr th:only-of-type {\n",
       "        vertical-align: middle;\n",
       "    }\n",
       "\n",
       "    .dataframe tbody tr th {\n",
       "        vertical-align: top;\n",
       "    }\n",
       "\n",
       "    .dataframe thead th {\n",
       "        text-align: right;\n",
       "    }\n",
       "</style>\n",
       "<table border=\"1\" class=\"dataframe\">\n",
       "  <thead>\n",
       "    <tr style=\"text-align: right;\">\n",
       "      <th></th>\n",
       "      <th>Unnamed: 0</th>\n",
       "      <th>title</th>\n",
       "      <th>label</th>\n",
       "    </tr>\n",
       "  </thead>\n",
       "  <tbody>\n",
       "    <tr>\n",
       "      <th>0</th>\n",
       "      <td>0</td>\n",
       "      <td>Epic Games takes on Apple and Google in Austra...</td>\n",
       "      <td>Apple</td>\n",
       "    </tr>\n",
       "    <tr>\n",
       "      <th>1</th>\n",
       "      <td>1</td>\n",
       "      <td>Java users on macOS 14 running on Apple silico...</td>\n",
       "      <td>Apple</td>\n",
       "    </tr>\n",
       "    <tr>\n",
       "      <th>2</th>\n",
       "      <td>2</td>\n",
       "      <td>Apple With No AI Looks More Like Coca-Cola Tha...</td>\n",
       "      <td>Apple</td>\n",
       "    </tr>\n",
       "    <tr>\n",
       "      <th>3</th>\n",
       "      <td>3</td>\n",
       "      <td>Daily Advice Thread - March 16, 2024</td>\n",
       "      <td>Apple</td>\n",
       "    </tr>\n",
       "    <tr>\n",
       "      <th>4</th>\n",
       "      <td>4</td>\n",
       "      <td>Apple opposes ex-ante regulations, similar to ...</td>\n",
       "      <td>Apple</td>\n",
       "    </tr>\n",
       "  </tbody>\n",
       "</table>\n",
       "</div>"
      ],
      "text/plain": [
       "   Unnamed: 0                                              title  label\n",
       "0           0  Epic Games takes on Apple and Google in Austra...  Apple\n",
       "1           1  Java users on macOS 14 running on Apple silico...  Apple\n",
       "2           2  Apple With No AI Looks More Like Coca-Cola Tha...  Apple\n",
       "3           3               Daily Advice Thread - March 16, 2024  Apple\n",
       "4           4  Apple opposes ex-ante regulations, similar to ...  Apple"
      ]
     },
     "execution_count": 1,
     "metadata": {},
     "output_type": "execute_result"
    }
   ],
   "source": [
    "# import libraries\n",
    "import pandas as pd\n",
    "import numpy as np\n",
    "import matplotlib.pyplot as plt\n",
    "import seaborn as sns\n",
    "from sklearn.feature_extraction.text import CountVectorizer\n",
    "\n",
    "# import data\n",
    "data = pd.read_csv('./data/Alltitles.csv')\n",
    "data.head()"
   ]
  },
  {
   "cell_type": "code",
   "execution_count": 2,
   "id": "b99190f3-a512-4bcb-98bb-101f32ab74e1",
   "metadata": {},
   "outputs": [],
   "source": [
    "data.drop('Unnamed: 0', axis=1, inplace=True)"
   ]
  },
  {
   "cell_type": "code",
   "execution_count": 3,
   "id": "4c093c1f-b6fe-4f78-8897-6ba5628d8d9d",
   "metadata": {},
   "outputs": [
    {
     "data": {
      "text/html": [
       "<div>\n",
       "<style scoped>\n",
       "    .dataframe tbody tr th:only-of-type {\n",
       "        vertical-align: middle;\n",
       "    }\n",
       "\n",
       "    .dataframe tbody tr th {\n",
       "        vertical-align: top;\n",
       "    }\n",
       "\n",
       "    .dataframe thead th {\n",
       "        text-align: right;\n",
       "    }\n",
       "</style>\n",
       "<table border=\"1\" class=\"dataframe\">\n",
       "  <thead>\n",
       "    <tr style=\"text-align: right;\">\n",
       "      <th></th>\n",
       "      <th>title</th>\n",
       "      <th>label</th>\n",
       "    </tr>\n",
       "  </thead>\n",
       "  <tbody>\n",
       "    <tr>\n",
       "      <th>0</th>\n",
       "      <td>Epic Games takes on Apple and Google in Austra...</td>\n",
       "      <td>1</td>\n",
       "    </tr>\n",
       "    <tr>\n",
       "      <th>1</th>\n",
       "      <td>Java users on macOS 14 running on Apple silico...</td>\n",
       "      <td>1</td>\n",
       "    </tr>\n",
       "    <tr>\n",
       "      <th>2</th>\n",
       "      <td>Apple With No AI Looks More Like Coca-Cola Tha...</td>\n",
       "      <td>1</td>\n",
       "    </tr>\n",
       "    <tr>\n",
       "      <th>3</th>\n",
       "      <td>Daily Advice Thread - March 16, 2024</td>\n",
       "      <td>1</td>\n",
       "    </tr>\n",
       "    <tr>\n",
       "      <th>4</th>\n",
       "      <td>Apple opposes ex-ante regulations, similar to ...</td>\n",
       "      <td>1</td>\n",
       "    </tr>\n",
       "  </tbody>\n",
       "</table>\n",
       "</div>"
      ],
      "text/plain": [
       "                                               title  label\n",
       "0  Epic Games takes on Apple and Google in Austra...      1\n",
       "1  Java users on macOS 14 running on Apple silico...      1\n",
       "2  Apple With No AI Looks More Like Coca-Cola Tha...      1\n",
       "3               Daily Advice Thread - March 16, 2024      1\n",
       "4  Apple opposes ex-ante regulations, similar to ...      1"
      ]
     },
     "execution_count": 3,
     "metadata": {},
     "output_type": "execute_result"
    }
   ],
   "source": [
    "# map numerical values to strings\n",
    "data['label']= data['label'].map({'Apple':1, 'Android':0})\n",
    "data.head()"
   ]
  },
  {
   "cell_type": "code",
   "execution_count": 4,
   "id": "8b3994b6-fe1b-47b3-8aff-d89ec551586c",
   "metadata": {},
   "outputs": [],
   "source": [
    "data.to_csv('./data/Alltitles_labeled.csv', index=False) # making a copy without index for modelling purpose"
   ]
  },
  {
   "cell_type": "code",
   "execution_count": 5,
   "id": "f5711cd0-6da5-4ab4-927f-95c0fbb24948",
   "metadata": {},
   "outputs": [
    {
     "data": {
      "text/plain": [
       "1    0.60665\n",
       "0    0.39335\n",
       "Name: label, dtype: float64"
      ]
     },
     "execution_count": 5,
     "metadata": {},
     "output_type": "execute_result"
    }
   ],
   "source": [
    "X = data['title']\n",
    "y = data['label']\n",
    "y.value_counts(normalize = True) # check the distribution of the label"
   ]
  },
  {
   "cell_type": "code",
   "execution_count": 6,
   "id": "72d361bb-d301-4674-9ab3-ac5e5d9582aa",
   "metadata": {},
   "outputs": [],
   "source": [
    "cvec = CountVectorizer(stop_words='english')\n",
    "CVed_X = cvec.fit_transform(X)"
   ]
  },
  {
   "cell_type": "code",
   "execution_count": 7,
   "id": "7e7d353d-492f-4029-a22e-b0659c866cc5",
   "metadata": {},
   "outputs": [
    {
     "data": {
      "text/plain": [
       "(1233, 3096)"
      ]
     },
     "execution_count": 7,
     "metadata": {},
     "output_type": "execute_result"
    }
   ],
   "source": [
    "# check the shape after count-vectorised into a sparse matrix\n",
    "CVed_X.shape"
   ]
  },
  {
   "cell_type": "markdown",
   "id": "8cfce4ce-871a-4fc9-af7a-19ef0a054039",
   "metadata": {},
   "source": [
    "### Exploratory Data Analysis"
   ]
  },
  {
   "cell_type": "code",
   "execution_count": 8,
   "id": "aa495a37-65dc-4ddb-ba96-c798b57f659d",
   "metadata": {},
   "outputs": [
    {
     "data": {
      "text/plain": [
       "<AxesSubplot: >"
      ]
     },
     "execution_count": 8,
     "metadata": {},
     "output_type": "execute_result"
    },
    {
     "data": {
      "image/png": "[encoded data removed]",
      "text/plain": [
       "<Figure size 640x480 with 1 Axes>"
      ]
     },
     "metadata": {},
     "output_type": "display_data"
    }
   ],
   "source": [
    "# rank each vector by its values\n",
    "test_df = pd.DataFrame(CVed_X.todense(), columns=cvec.get_feature_names_out())\n",
    "test_df.sum().sort_values(ascending=False).head(10).plot(kind='barh')"
   ]
  },
  {
   "cell_type": "code",
   "execution_count": 9,
   "id": "1010462a-b201-4139-b365-74b01e47d541",
   "metadata": {},
   "outputs": [
    {
     "data": {
      "text/plain": [
       "Index(['000', '000mah', '01', '02', '03', '04', '05', '06', '07', '08',\n",
       "       ...\n",
       "       'a55', 'a9', 'aaa', 'aawireless', 'ability', 'able', 'absolutely',\n",
       "       'abused', 'abusive', 'accelerated'],\n",
       "      dtype='object', length=160)"
      ]
     },
     "execution_count": 9,
     "metadata": {},
     "output_type": "execute_result"
    }
   ],
   "source": [
    "test_df.columns[:160]"
   ]
  },
  {
   "cell_type": "markdown",
   "id": "6f142383-f201-4030-bd41-551e5f1e5884",
   "metadata": {},
   "source": [
    "At the first glancec, it looks like the matrix has decent number of numerical numbers which might not have offered much values to the analysis"
   ]
  },
  {
   "cell_type": "code",
   "execution_count": 10,
   "id": "e98bde2d-d18b-404a-92f9-41e3a62504f0",
   "metadata": {},
   "outputs": [
    {
     "data": {
      "text/plain": [
       "Index(['80', '8300', '85bn', '87', '8a', '8g3', '8gb', '8k', '8s', '90',\n",
       "       '9000', '9300', '9400', '99', '9pro', '9to5google', '9to5mac', 'a17',\n",
       "       'a25', 'a35', 'a55', 'a9', 'aaa', 'aawireless', 'ability', 'able',\n",
       "       'absolutely', 'abused', 'abusive', 'accelerated'],\n",
       "      dtype='object')"
      ]
     },
     "execution_count": 10,
     "metadata": {},
     "output_type": "execute_result"
    }
   ],
   "source": [
    "test_df.columns[130:160]"
   ]
  },
  {
   "cell_type": "markdown",
   "id": "710912a3-4c29-484f-be1d-ce98d452d033",
   "metadata": {},
   "source": [
    "However, upon further inspection, the numerical values are associated with phone models such as Samsung Galaxy A25 Android, below are some selected samples"
   ]
  },
  {
   "cell_type": "code",
   "execution_count": 11,
   "id": "dba5eb7b-c0f2-43cc-8cba-0776e8cdb263",
   "metadata": {},
   "outputs": [
    {
     "data": {
      "text/plain": [
       "997    Samsung Galaxy A25 5G smartphone review - Colo...\n",
       "Name: title, dtype: object"
      ]
     },
     "execution_count": 11,
     "metadata": {},
     "output_type": "execute_result"
    }
   ],
   "source": [
    "X[X.str.contains('A25')]"
   ]
  },
  {
   "cell_type": "code",
   "execution_count": 12,
   "id": "f9f28fb9-a0a9-4670-8fb1-b532fe94529c",
   "metadata": {},
   "outputs": [
    {
     "data": {
      "text/plain": [
       "446    Comparing PC Parts to Apple’s M3 - Part 1 | Ma...\n",
       "Name: title, dtype: object"
      ]
     },
     "execution_count": 12,
     "metadata": {},
     "output_type": "execute_result"
    }
   ],
   "source": [
    "X[X.str.contains('aaa')]"
   ]
  },
  {
   "cell_type": "code",
   "execution_count": 13,
   "id": "e03e70d1-3ddb-4366-a3f9-79313cf650b4",
   "metadata": {},
   "outputs": [
    {
     "data": {
      "text/plain": [
       "702    Apple’s $85bn-a-year services business faces l...\n",
       "Name: title, dtype: object"
      ]
     },
     "execution_count": 13,
     "metadata": {},
     "output_type": "execute_result"
    }
   ],
   "source": [
    "X[X.str.contains('85bn')]"
   ]
  },
  {
   "cell_type": "markdown",
   "id": "14a537bc-e0b7-415d-abfd-a7ff1cbc4eac",
   "metadata": {},
   "source": [
    "Therefore, I decided to keep all of the vectors. I would perform hyperparameter tuning on the vectorizer later, which could potentially remove all these terms that appear only once in the data. "
   ]
  },
  {
   "cell_type": "markdown",
   "id": "2f879ad8-cc74-44e9-9d4c-463e4a55cd22",
   "metadata": {},
   "source": [
    "Now let's explore the different distribution between Apple and Android"
   ]
  },
  {
   "cell_type": "code",
   "execution_count": 14,
   "id": "431e629d-3bf6-43d0-80c0-307dec6798b3",
   "metadata": {},
   "outputs": [],
   "source": [
    "# convert all titles into respective arrays for EDA\n",
    "Apple = data[data['label'] == 1]['title']\n",
    "Android = data[data['label'] == 0]['title']"
   ]
  },
  {
   "cell_type": "code",
   "execution_count": 15,
   "id": "e94edba9-98ce-4bf2-8137-8a87f4416767",
   "metadata": {},
   "outputs": [
    {
     "data": {
      "text/plain": [
       "0      Epic Games takes on Apple and Google in Austra...\n",
       "1      Java users on macOS 14 running on Apple silico...\n",
       "2      Apple With No AI Looks More Like Coca-Cola Tha...\n",
       "3                   Daily Advice Thread - March 16, 2024\n",
       "4      Apple opposes ex-ante regulations, similar to ...\n",
       "                             ...                        \n",
       "743              Daily Advice Thread - December 23, 2023\n",
       "744        Meet the PHOLED That Is Transforming Displays\n",
       "745    Apple Wants to Partner With Major Publishers t...\n",
       "746       Apple Explores A.I. Deals With News Publishers\n",
       "747    Testing Apple M3 Graphics: Gaming on the Mac, ...\n",
       "Name: title, Length: 748, dtype: object"
      ]
     },
     "execution_count": 15,
     "metadata": {},
     "output_type": "execute_result"
    }
   ],
   "source": [
    "Apple"
   ]
  },
  {
   "cell_type": "code",
   "execution_count": 16,
   "id": "afd4fb52-6fff-403f-8ff0-557697fe2ac1",
   "metadata": {},
   "outputs": [
    {
     "data": {
      "text/plain": [
       "<AxesSubplot: >"
      ]
     },
     "execution_count": 16,
     "metadata": {},
     "output_type": "execute_result"
    },
    {
     "data": {
      "image/png": "[encoded data removed]",
      "text/plain": [
       "<Figure size 640x480 with 1 Axes>"
      ]
     },
     "metadata": {},
     "output_type": "display_data"
    }
   ],
   "source": [
    "CV_Apple = cvec.transform(Apple)\n",
    "Apple_df = pd.DataFrame(CV_Apple.todense(), columns=cvec.get_feature_names_out())\n",
    "Apple_df.sum().sort_values(ascending=False).head(10).plot(kind='barh')"
   ]
  },
  {
   "cell_type": "markdown",
   "id": "ef809a84-2140-4ef2-9b10-221c8cf7a455",
   "metadata": {},
   "source": [
    "Unsurprisingly, 'apple' appears the most frequently under the Apple subreddit.  \n",
    "Its latest product Vision Pro seems to still be frequently talked about in the forum.  \n",
    "  \n",
    "However, the numerical \"2024\" might offer some challenges in the later part of the modelling process, as it is too generic.  \n",
    "It is also worth noting that under the Apple subreddit, it has a post with the title \"Daily Advice Thread\", which does not offer much classification capability to the model.  "
   ]
  },
  {
   "cell_type": "code",
   "execution_count": 17,
   "id": "e0a055ea-27db-4b4b-a24f-339248901c74",
   "metadata": {},
   "outputs": [
    {
     "data": {
      "text/plain": [
       "3                    Daily Advice Thread - March 16, 2024\n",
       "10                   Daily Advice Thread - March 15, 2024\n",
       "16                   Daily Advice Thread - March 14, 2024\n",
       "24                   Daily Advice Thread - March 13, 2024\n",
       "32                   Daily Advice Thread - March 12, 2024\n",
       "                              ...                        \n",
       "1105    xiaomi 14 series global launch/ultra announcem...\n",
       "1108    Huawei ranks first in smartphone sales in Chin...\n",
       "1173    The PC apps for Samsung's Quick Share and Goog...\n",
       "1189    The Best Smartphone For Photographers in 2024 ...\n",
       "1223    Shmoocon 2024-Inter-App Collusion:Exploiting A...\n",
       "Name: title, Length: 115, dtype: object"
      ]
     },
     "execution_count": 17,
     "metadata": {},
     "output_type": "execute_result"
    }
   ],
   "source": [
    "X[X.str.contains('2024')]"
   ]
  },
  {
   "cell_type": "markdown",
   "id": "784cf635-524c-4fbc-88a7-dd1e58402ea1",
   "metadata": {},
   "source": [
    "Above consideration would be important later when we come to the testing of generalisation of the model."
   ]
  },
  {
   "cell_type": "markdown",
   "id": "45f52188-2291-49d6-b264-6076fa56c628",
   "metadata": {},
   "source": [
    "Below we do similar EDA on Andriod's subreddit"
   ]
  },
  {
   "cell_type": "code",
   "execution_count": 18,
   "id": "a8f56902-2919-4b32-9a4d-a2f86d980d8a",
   "metadata": {},
   "outputs": [
    {
     "data": {
      "text/plain": [
       "<AxesSubplot: >"
      ]
     },
     "execution_count": 18,
     "metadata": {},
     "output_type": "execute_result"
    },
    {
     "data": {
      "image/png": "[encoded data removed]",
      "text/plain": [
       "<Figure size 640x480 with 1 Axes>"
      ]
     },
     "metadata": {},
     "output_type": "display_data"
    }
   ],
   "source": [
    "CV_Android = cvec.transform(Android)\n",
    "Android_df = pd.DataFrame(CV_Android.todense(), columns=cvec.get_feature_names_out())\n",
    "Android_df.sum().sort_values(ascending=False).head(10).plot(kind='barh')"
   ]
  },
  {
   "cell_type": "markdown",
   "id": "b37ee363-fdd2-4439-ad8e-86062ceefe63",
   "metadata": {},
   "source": [
    "It looks to have a set of distinctive words for those in the Android subreddit, such as \"google\", \"galaxy\" and \"samsung\".  \n",
    "Understandable as these name all utilise Android system, while Apple utilises its own IOS system."
   ]
  },
  {
   "cell_type": "markdown",
   "id": "03f1a2b2-57f2-4b01-907e-3f9e4046faa1",
   "metadata": {},
   "source": [
    "So it looks like each of the two subreddits have their own distinctive words, which would help in classifying the respective subreddit.  \n",
    "In this case, classification model should help us get the job done."
   ]
  },
  {
   "cell_type": "code",
   "execution_count": null,
   "id": "280097bb-2edb-42a3-acc1-d6b38546f3fd",
   "metadata": {},
   "outputs": [],
   "source": []
  },
  {
   "cell_type": "code",
   "execution_count": null,
   "id": "77fac072-6b66-4b61-9d99-dbbc3fceddbe",
   "metadata": {},
   "outputs": [],
   "source": []
  },
  {
   "cell_type": "code",
   "execution_count": null,
   "id": "0362ebad-32f3-48a4-8d24-83022ecf12c4",
   "metadata": {},
   "outputs": [],
   "source": []
  }
 ],
 "metadata": {
  "kernelspec": {
   "display_name": "Python 3 (ipykernel)",
   "language": "python",
   "name": "python3"
  },
  "language_info": {
   "codemirror_mode": {
    "name": "ipython",
    "version": 3
   },
   "file_extension": ".py",
   "mimetype": "text/x-python",
   "name": "python",
   "nbconvert_exporter": "python",
   "pygments_lexer": "ipython3",
   "version": "3.10.13"
  }
 },
 "nbformat": 4,
 "nbformat_minor": 5
}
