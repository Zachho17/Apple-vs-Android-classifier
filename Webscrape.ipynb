{
 "cells": [
  {
   "cell_type": "code",
   "execution_count": 1,
   "id": "ae66f981-73fc-409a-926c-8ff551ab232f",
   "metadata": {},
   "outputs": [],
   "source": [
    "# import libraries\n",
    "import requests\n",
    "import time\n",
    "import pandas as pd"
   ]
  },
  {
   "cell_type": "code",
   "execution_count": 2,
   "id": "0de5e5bb-0f40-45c7-89bb-f34d7c08ec1d",
   "metadata": {},
   "outputs": [],
   "source": [
    "# Assign URL for Apple subreddit\n",
    "url = 'https://www.reddit.com/r/apple/new.json'\n",
    "\n",
    "# Assign user-agent\n",
    "headers = {'User-agent': 'meehhh'}\n",
    "\n",
    "titles = []\n",
    "after = None # a query parameter in the URL, a key to scrape consecutively\n",
    "\n",
    "# to scrape 30 times\n",
    "for _ in range(30):\n",
    "    if after == None:\n",
    "        params = {}\n",
    "    else:\n",
    "        params = {'after': after}\n",
    "    res = requests.get(url, params=params, headers=headers)\n",
    "    if res.status_code == 200: # if successful\n",
    "        data = res.json()\n",
    "        for row in data['data']['children']:\n",
    "            titles.append(row['data']['title']) # to scrape only the title\n",
    "        after = data['data']['after'] # update query parameter\n",
    "    else: \n",
    "        print(res.status_code)\n",
    "        break\n",
    "    time.sleep(2)"
   ]
  },
  {
   "cell_type": "code",
   "execution_count": 3,
   "id": "38873fe9-b1fe-4430-a8d1-8769290cf85e",
   "metadata": {},
   "outputs": [
    {
     "data": {
      "text/html": [
       "<div>\n",
       "<style scoped>\n",
       "    .dataframe tbody tr th:only-of-type {\n",
       "        vertical-align: middle;\n",
       "    }\n",
       "\n",
       "    .dataframe tbody tr th {\n",
       "        vertical-align: top;\n",
       "    }\n",
       "\n",
       "    .dataframe thead th {\n",
       "        text-align: right;\n",
       "    }\n",
       "</style>\n",
       "<table border=\"1\" class=\"dataframe\">\n",
       "  <thead>\n",
       "    <tr style=\"text-align: right;\">\n",
       "      <th></th>\n",
       "      <th>0</th>\n",
       "    </tr>\n",
       "  </thead>\n",
       "  <tbody>\n",
       "    <tr>\n",
       "      <th>0</th>\n",
       "      <td>Epic Games takes on Apple and Google in Austra...</td>\n",
       "    </tr>\n",
       "    <tr>\n",
       "      <th>1</th>\n",
       "      <td>Java users on macOS 14 running on Apple silico...</td>\n",
       "    </tr>\n",
       "    <tr>\n",
       "      <th>2</th>\n",
       "      <td>Apple With No AI Looks More Like Coca-Cola Tha...</td>\n",
       "    </tr>\n",
       "    <tr>\n",
       "      <th>3</th>\n",
       "      <td>Daily Advice Thread - March 16, 2024</td>\n",
       "    </tr>\n",
       "    <tr>\n",
       "      <th>4</th>\n",
       "      <td>Apple opposes ex-ante regulations, similar to ...</td>\n",
       "    </tr>\n",
       "  </tbody>\n",
       "</table>\n",
       "</div>"
      ],
      "text/plain": [
       "                                                   0\n",
       "0  Epic Games takes on Apple and Google in Austra...\n",
       "1  Java users on macOS 14 running on Apple silico...\n",
       "2  Apple With No AI Looks More Like Coca-Cola Tha...\n",
       "3               Daily Advice Thread - March 16, 2024\n",
       "4  Apple opposes ex-ante regulations, similar to ..."
      ]
     },
     "execution_count": 3,
     "metadata": {},
     "output_type": "execute_result"
    }
   ],
   "source": [
    "Apple_post = pd.DataFrame(titles)\n",
    "Apple_post.head()"
   ]
  },
  {
   "cell_type": "code",
   "execution_count": 4,
   "id": "05bfa34a-8c54-4d22-989e-4bdc7c4ccddd",
   "metadata": {},
   "outputs": [
    {
     "data": {
      "text/plain": [
       "(750, 1)"
      ]
     },
     "execution_count": 4,
     "metadata": {},
     "output_type": "execute_result"
    }
   ],
   "source": [
    "Apple_post.shape"
   ]
  },
  {
   "cell_type": "code",
   "execution_count": 5,
   "id": "172412e5-8e03-41e2-8608-14f658b790a1",
   "metadata": {},
   "outputs": [
    {
     "data": {
      "text/plain": [
       "(748, 1)"
      ]
     },
     "execution_count": 5,
     "metadata": {},
     "output_type": "execute_result"
    }
   ],
   "source": [
    "Apple_post = Apple_post.drop_duplicates()\n",
    "Apple_post.shape"
   ]
  },
  {
   "cell_type": "code",
   "execution_count": 6,
   "id": "6b2003fa-30bb-4a04-a906-44feaa17ac01",
   "metadata": {},
   "outputs": [],
   "source": [
    "Apple_post.to_csv('./data/Apple.csv') # save for archive"
   ]
  },
  {
   "cell_type": "code",
   "execution_count": 7,
   "id": "4ba41714-7994-42d7-ae68-839dd6f0ae2f",
   "metadata": {},
   "outputs": [],
   "source": [
    "# Assign URL for Android subreddit\n",
    "url2 = 'https://www.reddit.com/r/Android/new.json'\n",
    "\n",
    "# Assign different data storage for different set of data\n",
    "# for loop is the same\n",
    "\n",
    "titles2 = []\n",
    "after2 = None\n",
    "\n",
    "for _ in range(23):\n",
    "    if after2 == None:\n",
    "        params = {}\n",
    "    else:\n",
    "        params = {'after': after2}\n",
    "    res = requests.get(url2, params=params, headers=headers)\n",
    "    if res.status_code == 200:\n",
    "        data = res.json()\n",
    "        for row in data['data']['children']:\n",
    "            titles2.append(row['data']['title'])\n",
    "        after2 = data['data']['after']\n",
    "    else: \n",
    "        print(res.status_code)\n",
    "        break\n",
    "    time.sleep(2)"
   ]
  },
  {
   "cell_type": "code",
   "execution_count": 8,
   "id": "e900afcd-d337-4ec8-9c94-4d2c952c9bbe",
   "metadata": {},
   "outputs": [
    {
     "data": {
      "text/html": [
       "<div>\n",
       "<style scoped>\n",
       "    .dataframe tbody tr th:only-of-type {\n",
       "        vertical-align: middle;\n",
       "    }\n",
       "\n",
       "    .dataframe tbody tr th {\n",
       "        vertical-align: top;\n",
       "    }\n",
       "\n",
       "    .dataframe thead th {\n",
       "        text-align: right;\n",
       "    }\n",
       "</style>\n",
       "<table border=\"1\" class=\"dataframe\">\n",
       "  <thead>\n",
       "    <tr style=\"text-align: right;\">\n",
       "      <th></th>\n",
       "      <th>0</th>\n",
       "    </tr>\n",
       "  </thead>\n",
       "  <tbody>\n",
       "    <tr>\n",
       "      <th>0</th>\n",
       "      <td>HDR is BROKEN on the Samsung Galaxy S24 Ultra!</td>\n",
       "    </tr>\n",
       "    <tr>\n",
       "      <th>1</th>\n",
       "      <td>Why LG and Sony failed to be able to compete w...</td>\n",
       "    </tr>\n",
       "    <tr>\n",
       "      <th>2</th>\n",
       "      <td>Sony Xperia 1 VI might give up on the 4K displ...</td>\n",
       "    </tr>\n",
       "    <tr>\n",
       "      <th>3</th>\n",
       "      <td>After Recent Update, Google Removed All Option...</td>\n",
       "    </tr>\n",
       "    <tr>\n",
       "      <th>4</th>\n",
       "      <td>Google Wallet is rolling out support for impor...</td>\n",
       "    </tr>\n",
       "  </tbody>\n",
       "</table>\n",
       "</div>"
      ],
      "text/plain": [
       "                                                   0\n",
       "0     HDR is BROKEN on the Samsung Galaxy S24 Ultra!\n",
       "1  Why LG and Sony failed to be able to compete w...\n",
       "2  Sony Xperia 1 VI might give up on the 4K displ...\n",
       "3  After Recent Update, Google Removed All Option...\n",
       "4  Google Wallet is rolling out support for impor..."
      ]
     },
     "execution_count": 8,
     "metadata": {},
     "output_type": "execute_result"
    }
   ],
   "source": [
    "Android_post = pd.DataFrame(titles2)\n",
    "Android_post.head()"
   ]
  },
  {
   "cell_type": "code",
   "execution_count": 9,
   "id": "86e7da67-b906-4b8f-bdd5-3f3a1a9a2adf",
   "metadata": {},
   "outputs": [
    {
     "data": {
      "text/plain": [
       "(560, 1)"
      ]
     },
     "execution_count": 9,
     "metadata": {},
     "output_type": "execute_result"
    }
   ],
   "source": [
    "Android_post.shape"
   ]
  },
  {
   "cell_type": "code",
   "execution_count": 10,
   "id": "f8bf3268-478e-48a2-b551-9dc7a0080085",
   "metadata": {},
   "outputs": [
    {
     "data": {
      "text/plain": [
       "(485, 1)"
      ]
     },
     "execution_count": 10,
     "metadata": {},
     "output_type": "execute_result"
    }
   ],
   "source": [
    "Android_post = Android_post.drop_duplicates()\n",
    "Android_post.shape"
   ]
  },
  {
   "cell_type": "code",
   "execution_count": 11,
   "id": "5dcd6cb6-33c2-486a-8c49-8ce072008885",
   "metadata": {},
   "outputs": [],
   "source": [
    "Android_post.to_csv('./data/Android.csv') # save for archive"
   ]
  },
  {
   "cell_type": "code",
   "execution_count": 12,
   "id": "83bbaab9-e75c-4873-aeac-fa0fb52f8dd7",
   "metadata": {},
   "outputs": [],
   "source": [
    "Apple_post['label'] = 'Apple'"
   ]
  },
  {
   "cell_type": "code",
   "execution_count": 13,
   "id": "c460df34-a842-4861-90aa-57004f9b63c5",
   "metadata": {},
   "outputs": [],
   "source": [
    "Android_post['label'] = 'Android'"
   ]
  },
  {
   "cell_type": "code",
   "execution_count": 14,
   "id": "8f59aa0b-e989-4894-9420-d9ceb93e3c71",
   "metadata": {},
   "outputs": [
    {
     "data": {
      "text/html": [
       "<div>\n",
       "<style scoped>\n",
       "    .dataframe tbody tr th:only-of-type {\n",
       "        vertical-align: middle;\n",
       "    }\n",
       "\n",
       "    .dataframe tbody tr th {\n",
       "        vertical-align: top;\n",
       "    }\n",
       "\n",
       "    .dataframe thead th {\n",
       "        text-align: right;\n",
       "    }\n",
       "</style>\n",
       "<table border=\"1\" class=\"dataframe\">\n",
       "  <thead>\n",
       "    <tr style=\"text-align: right;\">\n",
       "      <th></th>\n",
       "      <th>0</th>\n",
       "      <th>label</th>\n",
       "    </tr>\n",
       "  </thead>\n",
       "  <tbody>\n",
       "    <tr>\n",
       "      <th>0</th>\n",
       "      <td>Epic Games takes on Apple and Google in Austra...</td>\n",
       "      <td>Apple</td>\n",
       "    </tr>\n",
       "    <tr>\n",
       "      <th>1</th>\n",
       "      <td>Java users on macOS 14 running on Apple silico...</td>\n",
       "      <td>Apple</td>\n",
       "    </tr>\n",
       "    <tr>\n",
       "      <th>2</th>\n",
       "      <td>Apple With No AI Looks More Like Coca-Cola Tha...</td>\n",
       "      <td>Apple</td>\n",
       "    </tr>\n",
       "    <tr>\n",
       "      <th>3</th>\n",
       "      <td>Daily Advice Thread - March 16, 2024</td>\n",
       "      <td>Apple</td>\n",
       "    </tr>\n",
       "    <tr>\n",
       "      <th>4</th>\n",
       "      <td>Apple opposes ex-ante regulations, similar to ...</td>\n",
       "      <td>Apple</td>\n",
       "    </tr>\n",
       "  </tbody>\n",
       "</table>\n",
       "</div>"
      ],
      "text/plain": [
       "                                                   0  label\n",
       "0  Epic Games takes on Apple and Google in Austra...  Apple\n",
       "1  Java users on macOS 14 running on Apple silico...  Apple\n",
       "2  Apple With No AI Looks More Like Coca-Cola Tha...  Apple\n",
       "3               Daily Advice Thread - March 16, 2024  Apple\n",
       "4  Apple opposes ex-ante regulations, similar to ...  Apple"
      ]
     },
     "execution_count": 14,
     "metadata": {},
     "output_type": "execute_result"
    }
   ],
   "source": [
    "Alltitles = pd.concat([Apple_post, Android_post])\n",
    "Alltitles.reset_index(drop=True)\n",
    "Alltitles.head()"
   ]
  },
  {
   "cell_type": "code",
   "execution_count": 15,
   "id": "2610dcc9-d933-43a6-8086-062d25a14d4a",
   "metadata": {},
   "outputs": [
    {
     "data": {
      "text/plain": [
       "Apple      748\n",
       "Android    485\n",
       "Name: label, dtype: int64"
      ]
     },
     "execution_count": 15,
     "metadata": {},
     "output_type": "execute_result"
    }
   ],
   "source": [
    "Alltitles['label'].value_counts() # check and make sure all data are in with no duplication"
   ]
  },
  {
   "cell_type": "code",
   "execution_count": 16,
   "id": "515da923-6b9b-457c-9dcd-e2431da5ce8a",
   "metadata": {},
   "outputs": [
    {
     "data": {
      "text/html": [
       "<div>\n",
       "<style scoped>\n",
       "    .dataframe tbody tr th:only-of-type {\n",
       "        vertical-align: middle;\n",
       "    }\n",
       "\n",
       "    .dataframe tbody tr th {\n",
       "        vertical-align: top;\n",
       "    }\n",
       "\n",
       "    .dataframe thead th {\n",
       "        text-align: right;\n",
       "    }\n",
       "</style>\n",
       "<table border=\"1\" class=\"dataframe\">\n",
       "  <thead>\n",
       "    <tr style=\"text-align: right;\">\n",
       "      <th></th>\n",
       "      <th>title</th>\n",
       "      <th>label</th>\n",
       "    </tr>\n",
       "  </thead>\n",
       "  <tbody>\n",
       "    <tr>\n",
       "      <th>0</th>\n",
       "      <td>Epic Games takes on Apple and Google in Austra...</td>\n",
       "      <td>Apple</td>\n",
       "    </tr>\n",
       "    <tr>\n",
       "      <th>1</th>\n",
       "      <td>Java users on macOS 14 running on Apple silico...</td>\n",
       "      <td>Apple</td>\n",
       "    </tr>\n",
       "    <tr>\n",
       "      <th>2</th>\n",
       "      <td>Apple With No AI Looks More Like Coca-Cola Tha...</td>\n",
       "      <td>Apple</td>\n",
       "    </tr>\n",
       "    <tr>\n",
       "      <th>3</th>\n",
       "      <td>Daily Advice Thread - March 16, 2024</td>\n",
       "      <td>Apple</td>\n",
       "    </tr>\n",
       "    <tr>\n",
       "      <th>4</th>\n",
       "      <td>Apple opposes ex-ante regulations, similar to ...</td>\n",
       "      <td>Apple</td>\n",
       "    </tr>\n",
       "  </tbody>\n",
       "</table>\n",
       "</div>"
      ],
      "text/plain": [
       "                                               title  label\n",
       "0  Epic Games takes on Apple and Google in Austra...  Apple\n",
       "1  Java users on macOS 14 running on Apple silico...  Apple\n",
       "2  Apple With No AI Looks More Like Coca-Cola Tha...  Apple\n",
       "3               Daily Advice Thread - March 16, 2024  Apple\n",
       "4  Apple opposes ex-ante regulations, similar to ...  Apple"
      ]
     },
     "execution_count": 16,
     "metadata": {},
     "output_type": "execute_result"
    }
   ],
   "source": [
    "Alltitles.rename(columns={0:'title'}, inplace=True)\n",
    "Alltitles.head()"
   ]
  },
  {
   "cell_type": "code",
   "execution_count": 18,
   "id": "f7e52305-e6ed-4b82-b508-5674d3a24702",
   "metadata": {},
   "outputs": [],
   "source": [
    "Alltitles.to_csv('./data/Alltitles.csv') # export for archive and manipulation later"
   ]
  },
  {
   "cell_type": "code",
   "execution_count": null,
   "id": "99ecf6f0-b97a-4cfd-ac40-3278f1769f16",
   "metadata": {},
   "outputs": [],
   "source": []
  }
 ],
 "metadata": {
  "kernelspec": {
   "display_name": "Python 3 (ipykernel)",
   "language": "python",
   "name": "python3"
  },
  "language_info": {
   "codemirror_mode": {
    "name": "ipython",
    "version": 3
   },
   "file_extension": ".py",
   "mimetype": "text/x-python",
   "name": "python",
   "nbconvert_exporter": "python",
   "pygments_lexer": "ipython3",
   "version": "3.10.13"
  }
 },
 "nbformat": 4,
 "nbformat_minor": 5
}
